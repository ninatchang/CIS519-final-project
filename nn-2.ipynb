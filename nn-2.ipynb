{
 "cells": [
  {
   "cell_type": "code",
   "execution_count": 1,
   "metadata": {
    "colab": {},
    "colab_type": "code",
    "id": "wc5YCeqNlTD6"
   },
   "outputs": [
    {
     "name": "stdout",
     "output_type": "stream",
     "text": [
      "\u001b[31mmatplotlib 1.3.1 requires nose, which is not installed.\u001b[0m\n",
      "\u001b[31mmatplotlib 1.3.1 requires tornado, which is not installed.\u001b[0m\n",
      "\u001b[31mCannot uninstall 'numpy'. It is a distutils installed project and thus we cannot accurately determine which files belong to it which would lead to only a partial uninstall.\u001b[0m\n",
      "\u001b[33mYou are using pip version 18.0, however version 18.1 is available.\n",
      "You should consider upgrading via the 'pip install --upgrade pip' command.\u001b[0m\n",
      "\u001b[31mtorch-0.4.1-cp36-cp36m-linux_x86_64.whl is not a supported wheel on this platform.\u001b[0m\n",
      "\u001b[33mYou are using pip version 18.0, however version 18.1 is available.\n",
      "You should consider upgrading via the 'pip install --upgrade pip' command.\u001b[0m\n"
     ]
    }
   ],
   "source": [
    "!pip install -q keras\n",
    "\n",
    "from os.path import exists\n",
    "from wheel.pep425tags import get_abbr_impl, get_impl_ver, get_abi_tag\n",
    "platform = '{}{}-{}'.format(get_abbr_impl(), get_impl_ver(), get_abi_tag())\n",
    "cuda_output = !ldconfig -p|grep cudart.so|sed -e 's/.*\\.\\([0-9]*\\)\\.\\([0-9]*\\)$/cu\\1\\2/'\n",
    "accelerator = cuda_output[0] if exists('/dev/nvidia0') else 'cpu'\n",
    "\n",
    "!pip install -q http://download.pytorch.org/whl/{accelerator}/torch-0.4.1-{platform}-linux_x86_64.whl torchvision\n",
    "import torch"
   ]
  },
  {
   "cell_type": "code",
   "execution_count": 2,
   "metadata": {
    "colab": {
     "base_uri": "https://localhost:8080/",
     "height": 35
    },
    "colab_type": "code",
    "id": "C3JwJQ4OT7SX",
    "outputId": "ca5832df-d4a5-42a4-8a40-09e0d763025c"
   },
   "outputs": [
    {
     "name": "stderr",
     "output_type": "stream",
     "text": [
      "Using TensorFlow backend.\n"
     ]
    }
   ],
   "source": [
    "from keras.datasets import imdb\n",
    "\n",
    "(train_data, train_labels), (test_data, test_labels) = imdb.load_data(num_words = 10)"
   ]
  },
  {
   "cell_type": "code",
   "execution_count": 3,
   "metadata": {
    "colab": {},
    "colab_type": "code",
    "id": "an0hCJK44D-a"
   },
   "outputs": [],
   "source": [
    "import numpy as np\n",
    "\n",
    "def vectorize_sequences(sequences, dimension=5000):\n",
    "  results = np.zeros((len(sequences), dimension))\n",
    "  for i, sequence in enumerate(sequences):\n",
    "    results[i, sequence]=1\n",
    "  return results\n"
   ]
  },
  {
   "cell_type": "code",
   "execution_count": 4,
   "metadata": {
    "colab": {},
    "colab_type": "code",
    "id": "i4l-fYtVqOfr"
   },
   "outputs": [],
   "source": [
    "\n",
    "imdb_training = vectorize_sequences(train_data)\n",
    "imdb_testing = vectorize_sequences(test_data)"
   ]
  },
  {
   "cell_type": "code",
   "execution_count": 5,
   "metadata": {
    "colab": {
     "base_uri": "https://localhost:8080/",
     "height": 52
    },
    "colab_type": "code",
    "id": "NpIlT9Htnnhn",
    "outputId": "3aa91e9a-2e21-4544-c071-c22054273598"
   },
   "outputs": [
    {
     "name": "stderr",
     "output_type": "stream",
     "text": [
      "[nltk_data] Downloading package stopwords to\n",
      "[nltk_data]     /Users/chang_nina/nltk_data...\n",
      "[nltk_data]   Package stopwords is already up-to-date!\n"
     ]
    }
   ],
   "source": [
    "import nltk\n",
    "nltk.download('stopwords')\n",
    "from nltk.corpus import stopwords\n",
    "stop = set(stopwords.words('english'))"
   ]
  },
  {
   "cell_type": "code",
   "execution_count": 6,
   "metadata": {
    "colab": {},
    "colab_type": "code",
    "id": "B1gFPQeS4LUB"
   },
   "outputs": [],
   "source": [
    "from collections import Counter\n",
    "def parse_amazon_data(lines):\n",
    "    '''\n",
    "    :param lines: a list of string... each line being a review + label\n",
    "    :return: a list of [review (string), label (int)]\n",
    "    '''\n",
    "    \n",
    "    # iterate through lines, create list of labels & list of reviews\n",
    "    \n",
    "    lines = [line.lower() for line in lines if len(line) >10]\n",
    "    reviews = [0 for i in range(len(lines))]\n",
    "    labels = [0 for i in range(len(lines))]\n",
    "    all_words = []\n",
    "    \n",
    "    data = [0 for i in range(len(lines))]\n",
    "               \n",
    "    \n",
    "    for i in range(len(lines)):\n",
    "      label, review_str = lines[i].split(\" \", 1)\n",
    "      review_str = ' '.join([word for word in review_str.split() if word not in stop])\n",
    "      all_words += [word for word in review_str.split() if word not in stop]\n",
    "      labels[i] = int(label[9])-1\n",
    "      reviews[i] = review_str\n",
    "    \n",
    "    print(\"done\")\n",
    "    \n",
    "#     count = Counter(word for line in reviews for word in line.split())\n",
    "    count = Counter(all_words)\n",
    "    print(\"meow\")\n",
    "    \n",
    "    # extract most common 10000 words\n",
    "    \n",
    "    common = [word for (word, count) in count.most_common(10)]\n",
    "    common_set = set(common)\n",
    "    print(\"mooooo\")\n",
    "    \n",
    "    i = 0\n",
    "    for r in reviews:\n",
    "      r_words = set(r.split())\n",
    "      # find union between r_words and common --> find index\n",
    "#       data[i] = [i for i in range(len(common)) if common[i] in r_words]\n",
    "      intersect = r_words.intersection(common_set)\n",
    "      data[i] = [common.index(w) for w in intersect]\n",
    "      i += 1\n",
    "      if i % 100000 == 0:\n",
    "        print(i)\n",
    "    \n",
    "    print(\"whee\")\n",
    "     \n",
    "    return data, labels"
   ]
  },
  {
   "cell_type": "code",
   "execution_count": 7,
   "metadata": {
    "colab": {
     "base_uri": "https://localhost:8080/",
     "height": 35
    },
    "colab_type": "code",
    "id": "ZvPCfrYrAkq9",
    "outputId": "f3975af9-1a1a-4b02-85e1-8f62f0307a60"
   },
   "outputs": [
    {
     "name": "stdout",
     "output_type": "stream",
     "text": [
      "cuda:0\n"
     ]
    }
   ],
   "source": [
    "device =  torch.device(\"cuda:0\" if torch.cuda.is_available() else \"cpu\")\n",
    "print(device)"
   ]
  },
  {
   "cell_type": "code",
   "execution_count": 8,
   "metadata": {
    "colab": {
     "base_uri": "https://localhost:8080/",
     "height": 35
    },
    "colab_type": "code",
    "id": "71hMbepsMpVG",
    "outputId": "e2665a8a-75d1-4e15-e2c9-4042b74ee8e7"
   },
   "outputs": [
    {
     "name": "stdout",
     "output_type": "stream",
     "text": [
      "Drive already mounted at /content/gdrive; to attempt to forcibly remount, call drive.mount(\"/content/gdrive\", force_remount=True).\n"
     ]
    }
   ],
   "source": [
    "from google.colab import drive\n",
    "drive.mount('/content/gdrive')\n",
    "\n",
    "# amazon_training = \"./data/train.ft.txt.bz2\"\n",
    "# amazon_testing = \"./testfrom google.colab import drive\n",
    "# drive.mount('/content/gdrive').ft.txt.bz2\""
   ]
  },
  {
   "cell_type": "code",
   "execution_count": 7,
   "metadata": {
    "colab": {},
    "colab_type": "code",
    "id": "YU0G2pf8R1mb"
   },
   "outputs": [],
   "source": [
    "amazon_training = \"./data/train.ft.txt.bz2\"\n",
    "amazon_testing = \"./data/test.ft.txt.bz2\""
   ]
  },
  {
   "cell_type": "code",
   "execution_count": 8,
   "metadata": {
    "colab": {
     "base_uri": "https://localhost:8080/",
     "height": 200
    },
    "colab_type": "code",
    "id": "4MImBke2dkYl",
    "outputId": "db2c6eeb-1f4d-4491-f709-ee460c05e37d"
   },
   "outputs": [],
   "source": [
    "amazon_training_lines = \"\"\n",
    "with open(\"./data/train.ft.txt\", 'r') as f:\n",
    "  amazon_training_lines = f.readlines()"
   ]
  },
  {
   "cell_type": "code",
   "execution_count": 9,
   "metadata": {
    "colab": {},
    "colab_type": "code",
    "id": "AxoswGobPhoc"
   },
   "outputs": [],
   "source": [
    "amazon_testing_lines = []\n",
    "\n",
    "with open(\"./data/test.ft.txt\", 'r') as f:\n",
    "  amazon_testing_lines = f.readlines()"
   ]
  },
  {
   "cell_type": "code",
   "execution_count": 10,
   "metadata": {
    "colab": {
     "base_uri": "https://localhost:8080/",
     "height": 155
    },
    "colab_type": "code",
    "id": "ioqRRkEhdkjk",
    "outputId": "84b1ebf3-836b-4ef6-a44a-87f5cd5e4f48"
   },
   "outputs": [
    {
     "name": "stdout",
     "output_type": "stream",
     "text": [
      "done\n",
      "meow\n",
      "mooooo\n",
      "100000\n",
      "200000\n",
      "300000\n",
      "400000\n",
      "whee\n"
     ]
    }
   ],
   "source": [
    "amazon_test_data, amazon_test_labels = parse_amazon_data(amazon_testing_lines)"
   ]
  },
  {
   "cell_type": "code",
   "execution_count": null,
   "metadata": {
    "colab": {},
    "colab_type": "code",
    "id": "bimSWNfqLcM6"
   },
   "outputs": [
    {
     "name": "stdout",
     "output_type": "stream",
     "text": [
      "done\n",
      "meow\n",
      "mooooo\n"
     ]
    }
   ],
   "source": [
    "amazon_training_data, amazon_training_labels = parse_amazon_data(amazon_training_lines)\n"
   ]
  },
  {
   "cell_type": "code",
   "execution_count": null,
   "metadata": {
    "colab": {},
    "colab_type": "code",
    "id": "w7IZ77RRK2u0"
   },
   "outputs": [],
   "source": [
    "amazon_testing = vectorize_sequences(amazon_test_data)\n"
   ]
  },
  {
   "cell_type": "code",
   "execution_count": null,
   "metadata": {
    "colab": {},
    "colab_type": "code",
    "id": "Up_DICE_Levv"
   },
   "outputs": [],
   "source": [
    "amazon_training = vectorize_sequences(amazon_training_data)"
   ]
  },
  {
   "cell_type": "code",
   "execution_count": null,
   "metadata": {
    "colab": {},
    "colab_type": "code",
    "id": "qkpokbEkKXrt"
   },
   "outputs": [],
   "source": [
    "from keras import models\n",
    "from keras import layers\n",
    "\n",
    "model = models.Sequential()\n",
    "model.add(layers.Dense(16, activation='relu', input_shape=(5000,)))\n",
    "model.add(layers.Dense(16, activation='relu'))\n",
    "model.add(layers.Dense(1, activation='sigmoid'))"
   ]
  },
  {
   "cell_type": "code",
   "execution_count": null,
   "metadata": {
    "colab": {},
    "colab_type": "code",
    "id": "bCpxaWZmI5Fi"
   },
   "outputs": [],
   "source": [
    "model.compile(optimizer='rmsprop', loss='binary_crossentropy', metrics=['accuracy'])"
   ]
  },
  {
   "cell_type": "markdown",
   "metadata": {
    "colab_type": "text",
    "id": "dhwmvsWTKEjx"
   },
   "source": []
  },
  {
   "cell_type": "code",
   "execution_count": null,
   "metadata": {
    "colab": {
     "base_uri": "https://localhost:8080/",
     "height": 714
    },
    "colab_type": "code",
    "id": "nmjiDyqCdkiO",
    "outputId": "1c95a7a6-b1e3-4341-8afd-4685fb50301d"
   },
   "outputs": [],
   "source": [
    "imdb_history = model.fit(imdb_training, train_labels, epochs=20, validation_data=(imdb_testing, test_labels), batch_size=512, shuffle=True)"
   ]
  },
  {
   "cell_type": "code",
   "execution_count": null,
   "metadata": {
    "colab": {},
    "colab_type": "code",
    "id": "h2Y_uCZvLBxs"
   },
   "outputs": [],
   "source": [
    "imdb_history1 = model.fit(imdb_training, train_labels, epochs=20, validation_data=(amazon_testing, amazon_test_labels), batch_size=512, shuffle=True)"
   ]
  },
  {
   "cell_type": "code",
   "execution_count": null,
   "metadata": {
    "colab": {
     "base_uri": "https://localhost:8080/",
     "height": 200
    },
    "colab_type": "code",
    "id": "bnHshaHUK9Aa",
    "outputId": "2a41e6b1-687c-4fde-dbd4-da9ea5d3012f"
   },
   "outputs": [],
   "source": [
    "plt.plot(x1, imdb_history.history['acc']) \n",
    "plt.plot(x1, imdb_history1.history['val_acc']) \n",
    "plt.plot(x1, imdb_history.history['val_acc']) \n",
    "\n",
    "\n",
    "plt.legend(['IMDB training accuracy', 'Amazon testing accuracy', 'IMDB testing accuracy'], loc='lower right')\n",
    "plt.title('Accuracy of Naive Bayes Model trained on IMDB')\n",
    "plt.ylabel('Accuracy')\n",
    "plt.xlabel('Epochs')\n",
    "plt.show()"
   ]
  },
  {
   "cell_type": "code",
   "execution_count": null,
   "metadata": {
    "colab": {
     "base_uri": "https://localhost:8080/",
     "height": 204
    },
    "colab_type": "code",
    "id": "9NGQLJJeQxqN",
    "outputId": "7a9e1aef-4f5f-42c3-aa8b-f0bd13080705"
   },
   "outputs": [],
   "source": [
    "amazon_history = model.fit(amazon_training, amazon_training_labels, epochs=20, validation_data=(imdb_testing, test_labels), batch_size=512, shuffle=True)\n",
    "amazon_history1 = model.fit(amazon_training, train_labels, epochs=20, validation_data=(amazon_testing, amazon_test_labels), batch_size=512, shuffle=True)"
   ]
  },
  {
   "cell_type": "code",
   "execution_count": null,
   "metadata": {
    "colab": {
     "base_uri": "https://localhost:8080/",
     "height": 51
    },
    "colab_type": "code",
    "id": "QcvzsfDGdkgf",
    "outputId": "f835d726-2d1c-4220-f6f5-43d3c2c404f3"
   },
   "outputs": [],
   "source": [
    "plt.plot(x1, amazon_history.history['acc']) \n",
    "plt.plot(x1, amazon_history1.history['val_acc']) \n",
    "plt.plot(x1, amazon_history.history['val_acc']) \n",
    "\n",
    "\n",
    "plt.legend(['Amazon training accuracy', 'Amazon testing accuracy', 'IMDB testing accuracy'], loc='lower right')\n",
    "plt.title('Accuracy of NN trained on IMDB')\n",
    "plt.ylabel('Accuracy')\n",
    "plt.xlabel('Epochs')\n",
    "plt.show()"
   ]
  },
  {
   "cell_type": "code",
   "execution_count": null,
   "metadata": {
    "colab": {},
    "colab_type": "code",
    "id": "Ckr5wqhEdkfE"
   },
   "outputs": [],
   "source": [
    "import matplotlib.pyplot as plt\n",
    "plt.plot(imdb_training_acc)\n"
   ]
  },
  {
   "cell_type": "markdown",
   "metadata": {
    "colab_type": "text",
    "id": "iH9dJqTaUQfz"
   },
   "source": [
    "METHOD #2 but not sure how we can use this if input length of training != input length of testing"
   ]
  },
  {
   "cell_type": "code",
   "execution_count": 0,
   "metadata": {
    "colab": {},
    "colab_type": "code",
    "id": "6zze6qQ8T7aG"
   },
   "outputs": [],
   "source": [
    "amazon_training = \"./train.ft.txt.bz2\"\n",
    "amazon_testing = \"./test.ft.txt.bz2\"\n",
    "imdb_training = \"./aclImdb/train\"\n",
    "imdb_testing = \"./aclImdb/test\"\n"
   ]
  },
  {
   "cell_type": "code",
   "execution_count": 0,
   "metadata": {
    "colab": {},
    "colab_type": "code",
    "id": "ob3XFsNrUA08"
   },
   "outputs": [],
   "source": [
    "amazon_training_file = bz2.BZ2File(amazon_training,'r')\n",
    "amazon_training_lines = amazon_training_file.readlines()"
   ]
  },
  {
   "cell_type": "code",
   "execution_count": 0,
   "metadata": {
    "colab": {},
    "colab_type": "code",
    "id": "5gkIpd8qUA8Y"
   },
   "outputs": [],
   "source": [
    "def parse_amazon_data(lines):\n",
    "    '''\n",
    "    :param lines: a list of string... each line being a review + label\n",
    "    :return: a list of [review (string), label (int)]\n",
    "    '''\n",
    "    review_and_ratings_list=[]\n",
    "    for i in range(len(lines)):\n",
    "        line_text = str(lines[i])\n",
    "        label, review_str = line_text.split(\" \", 1)\n",
    "        label = int(label[-1]) - 1         # label with 1 and 0\n",
    "        review_and_ratings_list.append([review_str, label])\n",
    "    return review_and_ratings_list"
   ]
  },
  {
   "cell_type": "code",
   "execution_count": 0,
   "metadata": {
    "colab": {},
    "colab_type": "code",
    "id": "ROiioYB62uQU"
   },
   "outputs": [],
   "source": [
    "def parse_imdb_data(file_path):\n",
    "    '''\n",
    "    :param lines: a list of string... each line being a review + label\n",
    "    :return: a list of [review (string), label (int)]\n",
    "    '''\n",
    "    review_and_ratings_list=[]\n",
    "    \n",
    "    for folder_name in os.listdir(file_path):\n",
    "      if folder_name == \"pos\" or folder_name == \"neg\":\n",
    "        if folder_name == \"pos\":\n",
    "          label = 1\n",
    "        elif folder_name == \"neg\":\n",
    "          label = 0\n",
    "          \n",
    "          \n",
    "        for file_name in os.listdir(file_path + \"/\" + folder_name):\n",
    "          with open(file_path + \"/\" + folder_name + \"/\" + file_name, 'r', errors='ignore') as f:\n",
    "            review_and_ratings_list.append([f.read(), label])\n",
    "    return review_and_ratings_list"
   ]
  },
  {
   "cell_type": "code",
   "execution_count": 0,
   "metadata": {
    "colab": {},
    "colab_type": "code",
    "id": "XS93lWFaUBDp"
   },
   "outputs": [],
   "source": [
    "def remove_punc(s):\n",
    "    table = str.maketrans({key: None for key in string.punctuation})\n",
    "    return s.translate(table)"
   ]
  },
  {
   "cell_type": "code",
   "execution_count": 0,
   "metadata": {
    "colab": {},
    "colab_type": "code",
    "id": "CyFVBKGflT9E"
   },
   "outputs": [],
   "source": [
    "def generate_x_and_y(review_and_ratings_list):\n",
    "    data = pd.DataFrame(review_and_ratings_list, columns=['review','rating'])\n",
    "    data['word_count'] = data['review'].str.lower().str.split().apply(len)\n",
    "    data['review'] = data['review'].apply(remove_punc)\n",
    "    data = data[:][data['word_count']<=25]\n",
    "    \n",
    "    stop_word = text.ENGLISH_STOP_WORDS\n",
    "    count_vector = CountVectorizer(stop_words = stop_word, min_df=.0001, lowercase=1)\n",
    "    x = csr_matrix(count_vector.fit_transform(data['review'].values)).todense()\n",
    "    #y = csr_matrix(data['rating'].values).todense()\n",
    "    y = data['rating'].values\n",
    "    return (x, y)"
   ]
  },
  {
   "cell_type": "code",
   "execution_count": 0,
   "metadata": {
    "colab": {},
    "colab_type": "code",
    "id": "0x8_iihclT_8"
   },
   "outputs": [],
   "source": [
    "#amazon_training_review_and_ratings_list = parse_amazon_data(amazon_training_lines)\n",
    "\n",
    "imdb_testing_review_and_ratings_list = parse_imdb_data(imdb_testing)"
   ]
  },
  {
   "cell_type": "code",
   "execution_count": 0,
   "metadata": {
    "colab": {},
    "colab_type": "code",
    "id": "pI4Wv1u_UasQ"
   },
   "outputs": [],
   "source": [
    "#train_x, train_y = generate_x_and_y(amazon_training_review_and_ratings_list)\n",
    "test_x, test_y = generate_x_and_y(imdb_testing_review_and_ratings_list)"
   ]
  },
  {
   "cell_type": "code",
   "execution_count": 0,
   "metadata": {
    "colab": {
     "base_uri": "https://localhost:8080/",
     "height": 35
    },
    "colab_type": "code",
    "id": "bwF1TEwlUaxe",
    "outputId": "2f05f537-4dff-413d-8085-03fc0e6f30e1"
   },
   "outputs": [
    {
     "data": {
      "text/plain": [
       "(37, 288)"
      ]
     },
     "execution_count": 10,
     "metadata": {
      "tags": []
     },
     "output_type": "execute_result"
    }
   ],
   "source": [
    "import numpy as np\n",
    "\n",
    "padded = np.pad(test_x, (0,9390)"
   ]
  },
  {
   "cell_type": "code",
   "execution_count": 0,
   "metadata": {
    "colab": {
     "base_uri": "https://localhost:8080/",
     "height": 35
    },
    "colab_type": "code",
    "id": "-CbhJEk5V_iW",
    "outputId": "9edb2f8a-5dee-42ba-be64-883420868da6"
   },
   "outputs": [
    {
     "name": "stdout",
     "output_type": "stream",
     "text": [
      "<class 'numpy.matrixlib.defmatrix.matrix'>\n"
     ]
    }
   ],
   "source": [
    "print(type(test_x))"
   ]
  },
  {
   "cell_type": "code",
   "execution_count": 0,
   "metadata": {
    "colab": {},
    "colab_type": "code",
    "id": "VIBrXI3-Uavm"
   },
   "outputs": [],
   "source": [
    "model1=  Sequential()\n",
    "model1.add(Dense(1000,input_shape=(9678,),activation='relu'))\n",
    "model1.add(Dense(1,activation='sigmoid'))\n",
    "\n",
    "model1.compile(optimizer='adam',\n",
    "              loss='binary_crossentropy',\n",
    "              metrics=['accuracy'])\n",
    "hist = model1.fit(train_x, train_y, epochs=6, batch_size=128, verbose=1)"
   ]
  },
  {
   "cell_type": "code",
   "execution_count": 0,
   "metadata": {
    "colab": {},
    "colab_type": "code",
    "id": "OHTkncrfX-bj"
   },
   "outputs": [],
   "source": [
    "model1.evaluate(test_x, test_y, batch_size=128)"
   ]
  },
  {
   "cell_type": "code",
   "execution_count": 0,
   "metadata": {
    "colab": {},
    "colab_type": "code",
    "id": "BE636eUVlZeV"
   },
   "outputs": [],
   "source": [
    "def parse_amazon_data(lines):\n",
    "    '''\n",
    "    :param lines: a list of string... each line being a review + label\n",
    "    :return: a list of [review (string), label (int)]\n",
    "    '''\n",
    "    review_and_ratings_list=[]\n",
    "    for i in range(len(lines)):\n",
    "        line_text = str(lines[i])\n",
    "        label, review_str = line_text.split(\" \", 1)\n",
    "        label = int(label[-1]) - 1         # label with 1 and 0\n",
    "        review_and_ratings_list.append([review_str, label])\n",
    "    return review_and_ratings_list"
   ]
  },
  {
   "cell_type": "code",
   "execution_count": 0,
   "metadata": {
    "colab": {
     "base_uri": "https://localhost:8080/",
     "height": 35
    },
    "colab_type": "code",
    "id": "QA-bi8tkrCp-",
    "outputId": "882576a4-50b7-4924-bea5-aad734aa775b"
   },
   "outputs": [
    {
     "name": "stdout",
     "output_type": "stream",
     "text": [
      "<zipfile.ZipFile [closed]>\n"
     ]
    }
   ],
   "source": [
    "amazon_testing_review_and_ratings_list = parse_amazon_data(amazon_testing_lines)\n"
   ]
  },
  {
   "cell_type": "code",
   "execution_count": 0,
   "metadata": {
    "colab": {},
    "colab_type": "code",
    "id": "qUpN0zUElZgt"
   },
   "outputs": [],
   "source": [
    "model1.evaluate(X_test, y_test, batch_size=128)\n"
   ]
  },
  {
   "cell_type": "code",
   "execution_count": 0,
   "metadata": {
    "colab": {
     "base_uri": "https://localhost:8080/",
     "height": 183
    },
    "colab_type": "code",
    "id": "4cxElNozlZk2",
    "outputId": "1b701f79-2424-45fb-e727-57e0fd8b6b95"
   },
   "outputs": [
    {
     "ename": "NameError",
     "evalue": "ignored",
     "output_type": "error",
     "traceback": [
      "\u001b[0;31m---------------------------------------------------------------------------\u001b[0m",
      "\u001b[0;31mNameError\u001b[0m                                 Traceback (most recent call last)",
      "\u001b[0;32m<ipython-input-8-38cf386f491a>\u001b[0m in \u001b[0;36m<module>\u001b[0;34m()\u001b[0m\n\u001b[0;32m----> 1\u001b[0;31m \u001b[0mamazon_testing_file\u001b[0m \u001b[0;34m=\u001b[0m \u001b[0mbz2\u001b[0m\u001b[0;34m.\u001b[0m\u001b[0mBZ2File\u001b[0m\u001b[0;34m(\u001b[0m\u001b[0mamazon_testing\u001b[0m\u001b[0;34m,\u001b[0m\u001b[0;34m'r'\u001b[0m\u001b[0;34m)\u001b[0m\u001b[0;34m\u001b[0m\u001b[0;34m\u001b[0m\u001b[0m\n\u001b[0m\u001b[1;32m      2\u001b[0m \u001b[0mamazon_testing_lines\u001b[0m \u001b[0;34m=\u001b[0m \u001b[0mamazon_testing_file\u001b[0m\u001b[0;34m.\u001b[0m\u001b[0mreadlines\u001b[0m\u001b[0;34m(\u001b[0m\u001b[0;34m)\u001b[0m\u001b[0;34m\u001b[0m\u001b[0;34m\u001b[0m\u001b[0m\n",
      "\u001b[0;31mNameError\u001b[0m: name 'amazon_testing' is not defined"
     ]
    }
   ],
   "source": []
  },
  {
   "cell_type": "code",
   "execution_count": 0,
   "metadata": {
    "colab": {},
    "colab_type": "code",
    "id": "pvB4xpFLlZox"
   },
   "outputs": [],
   "source": []
  },
  {
   "cell_type": "code",
   "execution_count": 0,
   "metadata": {
    "colab": {},
    "colab_type": "code",
    "id": "zYzTV4Q7lZny"
   },
   "outputs": [],
   "source": []
  },
  {
   "cell_type": "code",
   "execution_count": 0,
   "metadata": {
    "colab": {},
    "colab_type": "code",
    "id": "rs_HrUKFlZkM"
   },
   "outputs": [],
   "source": []
  },
  {
   "cell_type": "code",
   "execution_count": 0,
   "metadata": {
    "colab": {},
    "colab_type": "code",
    "id": "mrA8uW5ilUDr"
   },
   "outputs": [],
   "source": []
  }
 ],
 "metadata": {
  "accelerator": "GPU",
  "colab": {
   "collapsed_sections": [],
   "name": "nn.ipynb",
   "provenance": [],
   "version": "0.3.2"
  },
  "kernelspec": {
   "display_name": "Python 3",
   "language": "python",
   "name": "python3"
  },
  "language_info": {
   "codemirror_mode": {
    "name": "ipython",
    "version": 3
   },
   "file_extension": ".py",
   "mimetype": "text/x-python",
   "name": "python",
   "nbconvert_exporter": "python",
   "pygments_lexer": "ipython3",
   "version": "3.6.5"
  }
 },
 "nbformat": 4,
 "nbformat_minor": 1
}
