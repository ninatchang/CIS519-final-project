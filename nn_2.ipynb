{
  "nbformat": 4,
  "nbformat_minor": 0,
  "metadata": {
    "colab": {
      "name": "nn-2.ipynb",
      "version": "0.3.2",
      "provenance": [],
      "collapsed_sections": []
    },
    "kernelspec": {
      "name": "python3",
      "display_name": "Python 3"
    },
    "accelerator": "GPU"
  },
  "cells": [
    {
      "metadata": {
        "colab_type": "code",
        "id": "wc5YCeqNlTD6",
        "colab": {}
      },
      "cell_type": "code",
      "source": [
        "!pip install -q keras\n",
        "\n",
        "from os.path import exists\n",
        "from wheel.pep425tags import get_abbr_impl, get_impl_ver, get_abi_tag\n",
        "platform = '{}{}-{}'.format(get_abbr_impl(), get_impl_ver(), get_abi_tag())\n",
        "cuda_output = !ldconfig -p|grep cudart.so|sed -e 's/.*\\.\\([0-9]*\\)\\.\\([0-9]*\\)$/cu\\1\\2/'\n",
        "accelerator = cuda_output[0] if exists('/dev/nvidia0') else 'cpu'\n",
        "\n",
        "!pip install -q http://download.pytorch.org/whl/{accelerator}/torch-0.4.1-{platform}-linux_x86_64.whl torchvision\n",
        "import torch"
      ],
      "execution_count": 0,
      "outputs": []
    },
    {
      "metadata": {
        "colab_type": "code",
        "id": "C3JwJQ4OT7SX",
        "outputId": "1ce40c2d-d763-44a4-80a0-2418808f1d5e",
        "colab": {
          "base_uri": "https://localhost:8080/",
          "height": 34
        }
      },
      "cell_type": "code",
      "source": [
        "from keras.datasets import imdb\n",
        "\n",
        "(train_data, train_labels), (test_data, test_labels) = imdb.load_data(num_words = 1000)"
      ],
      "execution_count": 0,
      "outputs": [
        {
          "output_type": "stream",
          "text": [
            "Using TensorFlow backend.\n"
          ],
          "name": "stderr"
        }
      ]
    },
    {
      "metadata": {
        "colab_type": "code",
        "id": "an0hCJK44D-a",
        "colab": {}
      },
      "cell_type": "code",
      "source": [
        "import numpy as np\n",
        "\n",
        "def vectorize_sequences(sequences, dimension=1000):\n",
        "  results = np.zeros((len(sequences), dimension))\n",
        "  for i, sequence in enumerate(sequences):\n",
        "    results[i, sequence]=1\n",
        "  return results\n"
      ],
      "execution_count": 0,
      "outputs": []
    },
    {
      "metadata": {
        "colab_type": "code",
        "id": "i4l-fYtVqOfr",
        "colab": {}
      },
      "cell_type": "code",
      "source": [
        "\n",
        "imdb_training = vectorize_sequences(train_data)\n",
        "imdb_testing = vectorize_sequences(test_data)"
      ],
      "execution_count": 0,
      "outputs": []
    },
    {
      "metadata": {
        "colab_type": "code",
        "id": "NpIlT9Htnnhn",
        "outputId": "c065fac2-36f1-4a0e-df80-9fa03675ecf9",
        "colab": {
          "base_uri": "https://localhost:8080/",
          "height": 51
        }
      },
      "cell_type": "code",
      "source": [
        "import nltk\n",
        "nltk.download('stopwords')\n",
        "from nltk.corpus import stopwords\n",
        "stop = set(stopwords.words('english'))"
      ],
      "execution_count": 0,
      "outputs": [
        {
          "output_type": "stream",
          "text": [
            "[nltk_data] Downloading package stopwords to /root/nltk_data...\n",
            "[nltk_data]   Package stopwords is already up-to-date!\n"
          ],
          "name": "stdout"
        }
      ]
    },
    {
      "metadata": {
        "colab_type": "code",
        "id": "B1gFPQeS4LUB",
        "colab": {}
      },
      "cell_type": "code",
      "source": [
        "from collections import Counter\n",
        "def parse_amazon_data(lines, common_set=None):\n",
        "    '''\n",
        "    :param lines: a list of string... each line being a review + label\n",
        "    :return: a list of [review (string), label (int)]\n",
        "    '''\n",
        "    \n",
        "    # iterate through lines, create list of labels & list of reviews\n",
        "    \n",
        "    lines = [line.lower() for line in lines if len(line) >10]\n",
        "    reviews = [0 for i in range(len(lines))]\n",
        "    labels = [0 for i in range(len(lines))]\n",
        "    all_words = []\n",
        "    \n",
        "    data = [0 for i in range(len(lines))]\n",
        "               \n",
        "    \n",
        "    for i in range(len(lines)):\n",
        "      label, review_str = lines[i].split(\" \", 1)\n",
        "      review_str = ' '.join([word for word in review_str.split() if word not in stop])\n",
        "      all_words += [word for word in review_str.split() if word not in stop]\n",
        "      labels[i] = int(label[9])-1\n",
        "      reviews[i] = review_str\n",
        "    \n",
        "    print(\"done\")\n",
        "    \n",
        "#     count = Counter(word for line in reviews for word in line.split())\n",
        "    if common_set is None:\n",
        "      count = Counter(all_words)\n",
        "      print(\"meow\")\n",
        "\n",
        "      # extract most common 10000 words\n",
        "\n",
        "      common = [word for (word, count) in count.most_common(1000)]\n",
        "      common_set = set(common)\n",
        "      print(\"mooooo\")\n",
        "    \n",
        "    i = 0\n",
        "    for r in reviews:\n",
        "      r_words = set(r.split())\n",
        "      # find union between r_words and common --> find index\n",
        "#       data[i] = [i for i in range(len(common)) if common[i] in r_words]\n",
        "      intersect = r_words.intersection(common_set)\n",
        "      data[i] = [common.index(w) for w in intersect]\n",
        "      i += 1\n",
        "      if i % 100000 == 0:\n",
        "        print(i)\n",
        "    \n",
        "    print(\"whee\")\n",
        "     \n",
        "    return data, labels, common_set"
      ],
      "execution_count": 0,
      "outputs": []
    },
    {
      "metadata": {
        "id": "ZvPCfrYrAkq9",
        "colab_type": "code",
        "outputId": "9cf14ce7-41cb-4b2f-9ddb-25fcf24f80e2",
        "colab": {
          "base_uri": "https://localhost:8080/",
          "height": 34
        }
      },
      "cell_type": "code",
      "source": [
        "device =  torch.device(\"cuda:0\" if torch.cuda.is_available() else \"cpu\")\n",
        "print(device)"
      ],
      "execution_count": 0,
      "outputs": [
        {
          "output_type": "stream",
          "text": [
            "cuda:0\n"
          ],
          "name": "stdout"
        }
      ]
    },
    {
      "metadata": {
        "id": "pM7ZzYzI8Z5o",
        "colab_type": "code",
        "colab": {}
      },
      "cell_type": "code",
      "source": [
        ""
      ],
      "execution_count": 0,
      "outputs": []
    },
    {
      "metadata": {
        "colab_type": "code",
        "id": "71hMbepsMpVG",
        "outputId": "df04ba98-5ae0-4f5e-ed01-533b678ad373",
        "colab": {
          "base_uri": "https://localhost:8080/",
          "height": 34
        }
      },
      "cell_type": "code",
      "source": [
        "from google.colab import drive\n",
        "drive.mount('/content/gdrive')\n",
        "\n",
        "# amazon_training = \"./data/train.ft.txt.bz2\"\n",
        "# amazon_testing = \"./testfrom google.colab import drive\n",
        "# drive.mount('/content/gdrive').ft.txt.bz2\""
      ],
      "execution_count": 0,
      "outputs": [
        {
          "output_type": "stream",
          "text": [
            "Drive already mounted at /content/gdrive; to attempt to forcibly remount, call drive.mount(\"/content/gdrive\", force_remount=True).\n"
          ],
          "name": "stdout"
        }
      ]
    },
    {
      "metadata": {
        "colab_type": "code",
        "id": "YU0G2pf8R1mb",
        "colab": {}
      },
      "cell_type": "code",
      "source": [
        "amazon_training = \"./data/train.ft.txt.bz2\"\n",
        "amazon_testing = \"./data/test.ft.txt.bz2\""
      ],
      "execution_count": 0,
      "outputs": []
    },
    {
      "metadata": {
        "colab_type": "code",
        "id": "4MImBke2dkYl",
        "colab": {}
      },
      "cell_type": "code",
      "source": [
        "amazon_training_lines = \"\"\n",
        "with open(\"gdrive/My Drive/data/train.ft.txt\", 'r') as f:\n",
        "  amazon_training_lines = f.readlines()"
      ],
      "execution_count": 0,
      "outputs": []
    },
    {
      "metadata": {
        "colab_type": "code",
        "id": "AxoswGobPhoc",
        "colab": {}
      },
      "cell_type": "code",
      "source": [
        "amazon_testing_lines = []\n",
        "\n",
        "with open(\"gdrive/My Drive/data/test.ft.txt\", 'r') as f:\n",
        "  amazon_testing_lines = f.readlines()"
      ],
      "execution_count": 0,
      "outputs": []
    },
    {
      "metadata": {
        "id": "2OF1ch5a9cj1",
        "colab_type": "code",
        "outputId": "964b14dd-b552-45fd-e3fa-2d50949b8352",
        "colab": {
          "base_uri": "https://localhost:8080/",
          "height": 51
        }
      },
      "cell_type": "code",
      "source": [
        "print(len(amazon_training_lines))\n",
        "print(len(amazon_testing_lines))"
      ],
      "execution_count": 0,
      "outputs": [
        {
          "output_type": "stream",
          "text": [
            "3600000\n",
            "400000\n"
          ],
          "name": "stdout"
        }
      ]
    },
    {
      "metadata": {
        "colab_type": "code",
        "id": "ioqRRkEhdkjk",
        "outputId": "cb77a871-f351-475b-fafa-2782d7034d8a",
        "colab": {
          "base_uri": "https://localhost:8080/",
          "height": 153
        }
      },
      "cell_type": "code",
      "source": [
        "amazon_test_data, amazon_test_labels, common_set = parse_amazon_data(amazon_testing_lines)\n",
        "\n"
      ],
      "execution_count": 0,
      "outputs": [
        {
          "output_type": "stream",
          "text": [
            "done\n",
            "meow\n",
            "mooooo\n",
            "100000\n",
            "200000\n",
            "300000\n",
            "400000\n",
            "whee\n"
          ],
          "name": "stdout"
        }
      ]
    },
    {
      "metadata": {
        "id": "bimSWNfqLcM6",
        "colab_type": "code",
        "outputId": "1c5dc7c9-6b1a-473d-f18b-babdf6ef59e7",
        "colab": {
          "base_uri": "https://localhost:8080/",
          "height": 153
        }
      },
      "cell_type": "code",
      "source": [
        "amazon_training_data, amazon_training_labels, common_set = parse_amazon_data(amazon_training_lines[:400000])\n"
      ],
      "execution_count": 0,
      "outputs": [
        {
          "output_type": "stream",
          "text": [
            "done\n",
            "meow\n",
            "mooooo\n",
            "100000\n",
            "200000\n",
            "300000\n",
            "400000\n",
            "whee\n"
          ],
          "name": "stdout"
        }
      ]
    },
    {
      "metadata": {
        "colab_type": "code",
        "id": "w7IZ77RRK2u0",
        "colab": {}
      },
      "cell_type": "code",
      "source": [
        "amazon_testing = vectorize_sequences(amazon_test_data)\n"
      ],
      "execution_count": 0,
      "outputs": []
    },
    {
      "metadata": {
        "id": "Up_DICE_Levv",
        "colab_type": "code",
        "colab": {}
      },
      "cell_type": "code",
      "source": [
        "amazon_training = vectorize_sequences(amazon_training_data)"
      ],
      "execution_count": 0,
      "outputs": []
    },
    {
      "metadata": {
        "id": "qkpokbEkKXrt",
        "colab_type": "code",
        "colab": {}
      },
      "cell_type": "code",
      "source": [
        "from keras import models\n",
        "from keras import layers\n",
        "\n",
        "model = models.Sequential()\n",
        "model.add(layers.Dense(16, activation='relu', input_shape=(1000,)))\n",
        "model.add(layers.Dense(16, activation='relu'))\n",
        "model.add(layers.Dense(1, activation='sigmoid'))"
      ],
      "execution_count": 0,
      "outputs": []
    },
    {
      "metadata": {
        "colab_type": "code",
        "id": "bCpxaWZmI5Fi",
        "colab": {}
      },
      "cell_type": "code",
      "source": [
        "model.compile(optimizer='rmsprop', loss='binary_crossentropy', metrics=['accuracy'])"
      ],
      "execution_count": 0,
      "outputs": []
    },
    {
      "metadata": {
        "id": "dhwmvsWTKEjx",
        "colab_type": "text"
      },
      "cell_type": "markdown",
      "source": [
        ""
      ]
    },
    {
      "metadata": {
        "colab_type": "code",
        "id": "nmjiDyqCdkiO",
        "outputId": "22271857-97c8-45fc-d87c-9a9fb1e896bb",
        "colab": {
          "base_uri": "https://localhost:8080/",
          "height": 714
        }
      },
      "cell_type": "code",
      "source": [
        "imdb_history = model.fit(imdb_training, train_labels, epochs=20, validation_data=(imdb_testing, test_labels), batch_size=512, shuffle=True)"
      ],
      "execution_count": 0,
      "outputs": [
        {
          "output_type": "stream",
          "text": [
            "Train on 25000 samples, validate on 25000 samples\n",
            "Epoch 1/20\n",
            "25000/25000 [==============================] - 7s 284us/step - loss: 0.5193 - acc: 0.7568 - val_loss: 0.4037 - val_acc: 0.8337\n",
            "Epoch 2/20\n",
            "25000/25000 [==============================] - 1s 24us/step - loss: 0.3657 - acc: 0.8472 - val_loss: 0.3491 - val_acc: 0.8544\n",
            "Epoch 3/20\n",
            "25000/25000 [==============================] - 1s 22us/step - loss: 0.3298 - acc: 0.8621 - val_loss: 0.3339 - val_acc: 0.8586\n",
            "Epoch 4/20\n",
            "25000/25000 [==============================] - 1s 22us/step - loss: 0.3173 - acc: 0.8672 - val_loss: 0.3374 - val_acc: 0.8564\n",
            "Epoch 5/20\n",
            "25000/25000 [==============================] - 1s 22us/step - loss: 0.3084 - acc: 0.8724 - val_loss: 0.3372 - val_acc: 0.8569\n",
            "Epoch 6/20\n",
            "25000/25000 [==============================] - 1s 22us/step - loss: 0.3062 - acc: 0.8730 - val_loss: 0.3295 - val_acc: 0.8590\n",
            "Epoch 7/20\n",
            "25000/25000 [==============================] - 1s 22us/step - loss: 0.3004 - acc: 0.8767 - val_loss: 0.3450 - val_acc: 0.8542\n",
            "Epoch 8/20\n",
            "25000/25000 [==============================] - 1s 22us/step - loss: 0.2990 - acc: 0.8754 - val_loss: 0.3300 - val_acc: 0.8583\n",
            "Epoch 9/20\n",
            "25000/25000 [==============================] - 1s 23us/step - loss: 0.2955 - acc: 0.8781 - val_loss: 0.3297 - val_acc: 0.8579\n",
            "Epoch 10/20\n",
            "25000/25000 [==============================] - 1s 22us/step - loss: 0.2916 - acc: 0.8804 - val_loss: 0.3285 - val_acc: 0.8591\n",
            "Epoch 11/20\n",
            "25000/25000 [==============================] - 1s 22us/step - loss: 0.2894 - acc: 0.8802 - val_loss: 0.3285 - val_acc: 0.8590\n",
            "Epoch 12/20\n",
            "25000/25000 [==============================] - 1s 22us/step - loss: 0.2839 - acc: 0.8827 - val_loss: 0.3319 - val_acc: 0.8567\n",
            "Epoch 13/20\n",
            "25000/25000 [==============================] - 1s 22us/step - loss: 0.2816 - acc: 0.8829 - val_loss: 0.3361 - val_acc: 0.8550\n",
            "Epoch 14/20\n",
            "25000/25000 [==============================] - 1s 22us/step - loss: 0.2777 - acc: 0.8852 - val_loss: 0.3311 - val_acc: 0.8566\n",
            "Epoch 15/20\n",
            "25000/25000 [==============================] - 1s 22us/step - loss: 0.2735 - acc: 0.8872 - val_loss: 0.3346 - val_acc: 0.8546\n",
            "Epoch 16/20\n",
            "25000/25000 [==============================] - 1s 22us/step - loss: 0.2684 - acc: 0.8885 - val_loss: 0.3405 - val_acc: 0.8556\n",
            "Epoch 17/20\n",
            "25000/25000 [==============================] - 1s 22us/step - loss: 0.2637 - acc: 0.8915 - val_loss: 0.3374 - val_acc: 0.8584\n",
            "Epoch 18/20\n",
            "25000/25000 [==============================] - 1s 22us/step - loss: 0.2605 - acc: 0.8913 - val_loss: 0.3325 - val_acc: 0.8586\n",
            "Epoch 19/20\n",
            "25000/25000 [==============================] - 1s 22us/step - loss: 0.2531 - acc: 0.8952 - val_loss: 0.3366 - val_acc: 0.8587\n",
            "Epoch 20/20\n",
            "25000/25000 [==============================] - 1s 22us/step - loss: 0.2496 - acc: 0.8955 - val_loss: 0.3475 - val_acc: 0.8541\n"
          ],
          "name": "stdout"
        }
      ]
    },
    {
      "metadata": {
        "id": "h2Y_uCZvLBxs",
        "colab_type": "code",
        "outputId": "9b089bb0-51f5-43a1-f03a-1ff24f7c81d3",
        "colab": {
          "base_uri": "https://localhost:8080/",
          "height": 714
        }
      },
      "cell_type": "code",
      "source": [
        "imdb_history1 = model.fit(imdb_training, train_labels, epochs=20, validation_data=(amazon_testing, amazon_test_labels), batch_size=512, shuffle=True)"
      ],
      "execution_count": 0,
      "outputs": [
        {
          "output_type": "stream",
          "text": [
            "Train on 25000 samples, validate on 400000 samples\n",
            "Epoch 1/20\n",
            "25000/25000 [==============================] - 3s 129us/step - loss: 0.2443 - acc: 0.8991 - val_loss: 0.8515 - val_acc: 0.4782\n",
            "Epoch 2/20\n",
            "25000/25000 [==============================] - 3s 128us/step - loss: 0.2378 - acc: 0.9036 - val_loss: 0.8607 - val_acc: 0.4791\n",
            "Epoch 3/20\n",
            "25000/25000 [==============================] - 3s 126us/step - loss: 0.2336 - acc: 0.9038 - val_loss: 0.8727 - val_acc: 0.4776\n",
            "Epoch 4/20\n",
            "25000/25000 [==============================] - 3s 126us/step - loss: 0.2282 - acc: 0.9068 - val_loss: 0.8887 - val_acc: 0.4766\n",
            "Epoch 5/20\n",
            "25000/25000 [==============================] - 3s 127us/step - loss: 0.2238 - acc: 0.9081 - val_loss: 0.8927 - val_acc: 0.4757\n",
            "Epoch 6/20\n",
            "25000/25000 [==============================] - 3s 127us/step - loss: 0.2174 - acc: 0.9125 - val_loss: 0.9079 - val_acc: 0.4760\n",
            "Epoch 7/20\n",
            "25000/25000 [==============================] - 3s 127us/step - loss: 0.2131 - acc: 0.9132 - val_loss: 0.9071 - val_acc: 0.4763\n",
            "Epoch 8/20\n",
            "25000/25000 [==============================] - 3s 127us/step - loss: 0.2084 - acc: 0.9163 - val_loss: 0.9321 - val_acc: 0.4769\n",
            "Epoch 9/20\n",
            "25000/25000 [==============================] - 3s 126us/step - loss: 0.2046 - acc: 0.9178 - val_loss: 0.9407 - val_acc: 0.4751\n",
            "Epoch 10/20\n",
            "25000/25000 [==============================] - 3s 127us/step - loss: 0.1988 - acc: 0.9201 - val_loss: 0.9498 - val_acc: 0.4754\n",
            "Epoch 11/20\n",
            "25000/25000 [==============================] - 3s 126us/step - loss: 0.1936 - acc: 0.9231 - val_loss: 0.9754 - val_acc: 0.4746\n",
            "Epoch 12/20\n",
            "25000/25000 [==============================] - 3s 126us/step - loss: 0.1886 - acc: 0.9264 - val_loss: 1.0114 - val_acc: 0.4765\n",
            "Epoch 13/20\n",
            "25000/25000 [==============================] - 3s 127us/step - loss: 0.1843 - acc: 0.9267 - val_loss: 1.0016 - val_acc: 0.4756\n",
            "Epoch 14/20\n",
            "25000/25000 [==============================] - 3s 126us/step - loss: 0.1789 - acc: 0.9302 - val_loss: 1.0093 - val_acc: 0.4745\n",
            "Epoch 15/20\n",
            "25000/25000 [==============================] - 3s 126us/step - loss: 0.1750 - acc: 0.9327 - val_loss: 1.0283 - val_acc: 0.4751\n",
            "Epoch 16/20\n",
            "25000/25000 [==============================] - 3s 126us/step - loss: 0.1716 - acc: 0.9345 - val_loss: 1.0482 - val_acc: 0.4747\n",
            "Epoch 17/20\n",
            "25000/25000 [==============================] - 3s 126us/step - loss: 0.1660 - acc: 0.9372 - val_loss: 1.0840 - val_acc: 0.4759\n",
            "Epoch 18/20\n",
            "25000/25000 [==============================] - 3s 126us/step - loss: 0.1641 - acc: 0.9361 - val_loss: 1.0714 - val_acc: 0.4740\n",
            "Epoch 19/20\n",
            "25000/25000 [==============================] - 3s 128us/step - loss: 0.1594 - acc: 0.9400 - val_loss: 1.0982 - val_acc: 0.4750\n",
            "Epoch 20/20\n",
            "25000/25000 [==============================] - 3s 126us/step - loss: 0.1548 - acc: 0.9411 - val_loss: 1.1177 - val_acc: 0.4761\n"
          ],
          "name": "stdout"
        }
      ]
    },
    {
      "metadata": {
        "id": "bnHshaHUK9Aa",
        "colab_type": "code",
        "outputId": "8ae4c770-2142-4cb4-ef2f-ff9b02a86b65",
        "colab": {
          "base_uri": "https://localhost:8080/",
          "height": 376
        }
      },
      "cell_type": "code",
      "source": [
        "import matplotlib.pyplot as plt\n",
        "\n",
        "x1 = np.array([i for i in range(20)])\n",
        "plt.plot(x1, imdb_history.history['acc']) \n",
        "plt.plot(x1, imdb_history1.history['val_acc']) \n",
        "plt.plot(x1, imdb_history.history['val_acc']) \n",
        "\n",
        "\n",
        "plt.legend(['IMDB training accuracy', 'Amazon testing accuracy', 'IMDB testing accuracy'], loc='lower right')\n",
        "plt.title('Accuracy of Naive Bayes Model trained on IMDB')\n",
        "plt.ylabel('Accuracy')\n",
        "plt.xlabel('Epochs')\n",
        "plt.show()"
      ],
      "execution_count": 0,
      "outputs": [
        {
          "output_type": "display_data",
          "data": {
            "image/png": "[encoded data removed]",
            "text/plain": [
              "<matplotlib.figure.Figure at 0x7fc7d383a080>"
            ]
          },
          "metadata": {
            "tags": []
          }
        }
      ]
    },
    {
      "metadata": {
        "id": "9NGQLJJeQxqN",
        "colab_type": "code",
        "outputId": "f2ec03d0-b6e4-4441-bab8-7e6924d5e935",
        "colab": {
          "base_uri": "https://localhost:8080/",
          "height": 1255
        }
      },
      "cell_type": "code",
      "source": [
        "amazon_history = model.fit(amazon_training, amazon_training_labels, epochs=20, validation_data=(imdb_testing, test_labels), batch_size=512, shuffle=True)\n",
        "amazon_history1 = model.fit(amazon_training, train_labels, epochs=20, validation_data=(amazon_testing, amazon_test_labels), batch_size=512, shuffle=True)"
      ],
      "execution_count": 0,
      "outputs": [
        {
          "output_type": "stream",
          "text": [
            "Train on 400000 samples, validate on 25000 samples\n",
            "Epoch 1/20\n",
            "400000/400000 [==============================] - 6s 16us/step - loss: 0.4200 - acc: 0.8034 - val_loss: 1.4825 - val_acc: 0.4451\n",
            "Epoch 2/20\n",
            "400000/400000 [==============================] - 6s 16us/step - loss: 0.3722 - acc: 0.8325 - val_loss: 1.2824 - val_acc: 0.4498\n",
            "Epoch 3/20\n",
            "400000/400000 [==============================] - 6s 16us/step - loss: 0.3634 - acc: 0.8370 - val_loss: 1.2734 - val_acc: 0.4682\n",
            "Epoch 4/20\n",
            "400000/400000 [==============================] - 6s 16us/step - loss: 0.3566 - acc: 0.8410 - val_loss: 1.2761 - val_acc: 0.4667\n",
            "Epoch 5/20\n",
            "400000/400000 [==============================] - 6s 16us/step - loss: 0.3514 - acc: 0.8437 - val_loss: 1.2468 - val_acc: 0.4774\n",
            "Epoch 6/20\n",
            "400000/400000 [==============================] - 6s 16us/step - loss: 0.3475 - acc: 0.8463 - val_loss: 1.2495 - val_acc: 0.4879\n",
            "Epoch 7/20\n",
            "400000/400000 [==============================] - 6s 16us/step - loss: 0.3442 - acc: 0.8483 - val_loss: 1.2975 - val_acc: 0.4854\n",
            "Epoch 8/20\n",
            "400000/400000 [==============================] - 6s 16us/step - loss: 0.3415 - acc: 0.8497 - val_loss: 1.2971 - val_acc: 0.4860\n",
            "Epoch 9/20\n",
            "400000/400000 [==============================] - 6s 16us/step - loss: 0.3392 - acc: 0.8510 - val_loss: 1.2568 - val_acc: 0.4891\n",
            "Epoch 10/20\n",
            "400000/400000 [==============================] - 6s 16us/step - loss: 0.3373 - acc: 0.8516 - val_loss: 1.2473 - val_acc: 0.4897\n",
            "Epoch 11/20\n",
            "400000/400000 [==============================] - 6s 15us/step - loss: 0.3355 - acc: 0.8528 - val_loss: 1.2486 - val_acc: 0.4870\n",
            "Epoch 12/20\n",
            "400000/400000 [==============================] - 6s 16us/step - loss: 0.3341 - acc: 0.8540 - val_loss: 1.2753 - val_acc: 0.4897\n",
            "Epoch 13/20\n",
            "400000/400000 [==============================] - 6s 15us/step - loss: 0.3326 - acc: 0.8545 - val_loss: 1.3495 - val_acc: 0.4836\n",
            "Epoch 14/20\n",
            "400000/400000 [==============================] - 6s 16us/step - loss: 0.3316 - acc: 0.8551 - val_loss: 1.3052 - val_acc: 0.4904\n",
            "Epoch 15/20\n",
            "400000/400000 [==============================] - 6s 16us/step - loss: 0.3305 - acc: 0.8557 - val_loss: 1.2365 - val_acc: 0.4896\n",
            "Epoch 16/20\n",
            "400000/400000 [==============================] - 6s 16us/step - loss: 0.3296 - acc: 0.8563 - val_loss: 1.2838 - val_acc: 0.4888\n",
            "Epoch 17/20\n",
            "400000/400000 [==============================] - 6s 16us/step - loss: 0.3286 - acc: 0.8568 - val_loss: 1.2902 - val_acc: 0.4894\n",
            "Epoch 18/20\n",
            "400000/400000 [==============================] - 6s 16us/step - loss: 0.3278 - acc: 0.8575 - val_loss: 1.2485 - val_acc: 0.4916\n",
            "Epoch 19/20\n",
            "400000/400000 [==============================] - 6s 16us/step - loss: 0.3271 - acc: 0.8574 - val_loss: 1.2733 - val_acc: 0.4876\n",
            "Epoch 20/20\n",
            "400000/400000 [==============================] - 6s 16us/step - loss: 0.3264 - acc: 0.8582 - val_loss: 1.2695 - val_acc: 0.4934\n"
          ],
          "name": "stdout"
        },
        {
          "output_type": "error",
          "ename": "ValueError",
          "evalue": "ignored",
          "traceback": [
            "\u001b[0;31m---------------------------------------------------------------------------\u001b[0m",
            "\u001b[0;31mValueError\u001b[0m                                Traceback (most recent call last)",
            "\u001b[0;32m<ipython-input-20-9f120208d2b0>\u001b[0m in \u001b[0;36m<module>\u001b[0;34m()\u001b[0m\n\u001b[1;32m      1\u001b[0m \u001b[0mamazon_history\u001b[0m \u001b[0;34m=\u001b[0m \u001b[0mmodel\u001b[0m\u001b[0;34m.\u001b[0m\u001b[0mfit\u001b[0m\u001b[0;34m(\u001b[0m\u001b[0mamazon_training\u001b[0m\u001b[0;34m,\u001b[0m \u001b[0mamazon_training_labels\u001b[0m\u001b[0;34m,\u001b[0m \u001b[0mepochs\u001b[0m\u001b[0;34m=\u001b[0m\u001b[0;36m20\u001b[0m\u001b[0;34m,\u001b[0m \u001b[0mvalidation_data\u001b[0m\u001b[0;34m=\u001b[0m\u001b[0;34m(\u001b[0m\u001b[0mimdb_testing\u001b[0m\u001b[0;34m,\u001b[0m \u001b[0mtest_labels\u001b[0m\u001b[0;34m)\u001b[0m\u001b[0;34m,\u001b[0m \u001b[0mbatch_size\u001b[0m\u001b[0;34m=\u001b[0m\u001b[0;36m512\u001b[0m\u001b[0;34m,\u001b[0m \u001b[0mshuffle\u001b[0m\u001b[0;34m=\u001b[0m\u001b[0;32mTrue\u001b[0m\u001b[0;34m)\u001b[0m\u001b[0;34m\u001b[0m\u001b[0;34m\u001b[0m\u001b[0m\n\u001b[0;32m----> 2\u001b[0;31m \u001b[0mamazon_history1\u001b[0m \u001b[0;34m=\u001b[0m \u001b[0mmodel\u001b[0m\u001b[0;34m.\u001b[0m\u001b[0mfit\u001b[0m\u001b[0;34m(\u001b[0m\u001b[0mamazon_training\u001b[0m\u001b[0;34m,\u001b[0m \u001b[0mtrain_labels\u001b[0m\u001b[0;34m,\u001b[0m \u001b[0mepochs\u001b[0m\u001b[0;34m=\u001b[0m\u001b[0;36m20\u001b[0m\u001b[0;34m,\u001b[0m \u001b[0mvalidation_data\u001b[0m\u001b[0;34m=\u001b[0m\u001b[0;34m(\u001b[0m\u001b[0mamazon_testing\u001b[0m\u001b[0;34m,\u001b[0m \u001b[0mamazon_test_labels\u001b[0m\u001b[0;34m)\u001b[0m\u001b[0;34m,\u001b[0m \u001b[0mbatch_size\u001b[0m\u001b[0;34m=\u001b[0m\u001b[0;36m512\u001b[0m\u001b[0;34m,\u001b[0m \u001b[0mshuffle\u001b[0m\u001b[0;34m=\u001b[0m\u001b[0;32mTrue\u001b[0m\u001b[0;34m)\u001b[0m\u001b[0;34m\u001b[0m\u001b[0;34m\u001b[0m\u001b[0m\n\u001b[0m",
            "\u001b[0;32m/usr/local/lib/python3.6/dist-packages/keras/engine/training.py\u001b[0m in \u001b[0;36mfit\u001b[0;34m(self, x, y, batch_size, epochs, verbose, callbacks, validation_split, validation_data, shuffle, class_weight, sample_weight, initial_epoch, steps_per_epoch, validation_steps, **kwargs)\u001b[0m\n\u001b[1;32m    950\u001b[0m             \u001b[0msample_weight\u001b[0m\u001b[0;34m=\u001b[0m\u001b[0msample_weight\u001b[0m\u001b[0;34m,\u001b[0m\u001b[0;34m\u001b[0m\u001b[0;34m\u001b[0m\u001b[0m\n\u001b[1;32m    951\u001b[0m             \u001b[0mclass_weight\u001b[0m\u001b[0;34m=\u001b[0m\u001b[0mclass_weight\u001b[0m\u001b[0;34m,\u001b[0m\u001b[0;34m\u001b[0m\u001b[0;34m\u001b[0m\u001b[0m\n\u001b[0;32m--> 952\u001b[0;31m             batch_size=batch_size)\n\u001b[0m\u001b[1;32m    953\u001b[0m         \u001b[0;31m# Prepare validation data.\u001b[0m\u001b[0;34m\u001b[0m\u001b[0;34m\u001b[0m\u001b[0;34m\u001b[0m\u001b[0m\n\u001b[1;32m    954\u001b[0m         \u001b[0mdo_validation\u001b[0m \u001b[0;34m=\u001b[0m \u001b[0;32mFalse\u001b[0m\u001b[0;34m\u001b[0m\u001b[0;34m\u001b[0m\u001b[0m\n",
            "\u001b[0;32m/usr/local/lib/python3.6/dist-packages/keras/engine/training.py\u001b[0m in \u001b[0;36m_standardize_user_data\u001b[0;34m(self, x, y, sample_weight, class_weight, check_array_lengths, batch_size)\u001b[0m\n\u001b[1;32m    802\u001b[0m             ]\n\u001b[1;32m    803\u001b[0m             \u001b[0;31m# Check that all arrays have the same length.\u001b[0m\u001b[0;34m\u001b[0m\u001b[0;34m\u001b[0m\u001b[0;34m\u001b[0m\u001b[0m\n\u001b[0;32m--> 804\u001b[0;31m             \u001b[0mcheck_array_length_consistency\u001b[0m\u001b[0;34m(\u001b[0m\u001b[0mx\u001b[0m\u001b[0;34m,\u001b[0m \u001b[0my\u001b[0m\u001b[0;34m,\u001b[0m \u001b[0msample_weights\u001b[0m\u001b[0;34m)\u001b[0m\u001b[0;34m\u001b[0m\u001b[0;34m\u001b[0m\u001b[0m\n\u001b[0m\u001b[1;32m    805\u001b[0m             \u001b[0;32mif\u001b[0m \u001b[0mself\u001b[0m\u001b[0;34m.\u001b[0m\u001b[0m_is_graph_network\u001b[0m\u001b[0;34m:\u001b[0m\u001b[0;34m\u001b[0m\u001b[0;34m\u001b[0m\u001b[0m\n\u001b[1;32m    806\u001b[0m                 \u001b[0;31m# Additional checks to avoid users mistakenly\u001b[0m\u001b[0;34m\u001b[0m\u001b[0;34m\u001b[0m\u001b[0;34m\u001b[0m\u001b[0m\n",
            "\u001b[0;32m/usr/local/lib/python3.6/dist-packages/keras/engine/training_utils.py\u001b[0m in \u001b[0;36mcheck_array_length_consistency\u001b[0;34m(inputs, targets, weights)\u001b[0m\n\u001b[1;32m    235\u001b[0m                          \u001b[0;34m'the same number of samples as target arrays. '\u001b[0m\u001b[0;34m\u001b[0m\u001b[0;34m\u001b[0m\u001b[0m\n\u001b[1;32m    236\u001b[0m                          \u001b[0;34m'Found '\u001b[0m \u001b[0;34m+\u001b[0m \u001b[0mstr\u001b[0m\u001b[0;34m(\u001b[0m\u001b[0mlist\u001b[0m\u001b[0;34m(\u001b[0m\u001b[0mset_x\u001b[0m\u001b[0;34m)\u001b[0m\u001b[0;34m[\u001b[0m\u001b[0;36m0\u001b[0m\u001b[0;34m]\u001b[0m\u001b[0;34m)\u001b[0m \u001b[0;34m+\u001b[0m \u001b[0;34m' input samples '\u001b[0m\u001b[0;34m\u001b[0m\u001b[0;34m\u001b[0m\u001b[0m\n\u001b[0;32m--> 237\u001b[0;31m                          'and ' + str(list(set_y)[0]) + ' target samples.')\n\u001b[0m\u001b[1;32m    238\u001b[0m     \u001b[0;32mif\u001b[0m \u001b[0mlen\u001b[0m\u001b[0;34m(\u001b[0m\u001b[0mset_w\u001b[0m\u001b[0;34m)\u001b[0m \u001b[0;34m>\u001b[0m \u001b[0;36m1\u001b[0m\u001b[0;34m:\u001b[0m\u001b[0;34m\u001b[0m\u001b[0;34m\u001b[0m\u001b[0m\n\u001b[1;32m    239\u001b[0m         raise ValueError('All sample_weight arrays should have '\n",
            "\u001b[0;31mValueError\u001b[0m: Input arrays should have the same number of samples as target arrays. Found 400000 input samples and 25000 target samples."
          ]
        }
      ]
    },
    {
      "metadata": {
        "colab_type": "code",
        "id": "QcvzsfDGdkgf",
        "outputId": "fa7a290a-8dd8-41a1-d11b-78f6152d07a9",
        "colab": {
          "base_uri": "https://localhost:8080/",
          "height": 376
        }
      },
      "cell_type": "code",
      "source": [
        "import matplotlib.pyplot as plt\n",
        "\n",
        "x1 = np.array([i for i in range(20)])\n",
        "plt.plot(x1, amazon_history.history['acc']) \n",
        "# plt.plot(x1, amazon_history1.history['val_acc']) \n",
        "plt.plot(x1, amazon_history.history['val_acc']) \n",
        "\n",
        "\n",
        "# plt.legend(['Amazon training accuracy', 'Amazon testing accuracy', 'IMDB testing accuracy'], loc='lower right')\n",
        "plt.legend(['Amazon training accuracy', 'IMDB testing accuracy'], loc='lower right')\n",
        "plt.title('Accuracy of NN trained on Amazon')\n",
        "plt.ylabel('Accuracy')\n",
        "plt.xlabel('Epochs')\n",
        "plt.show()"
      ],
      "execution_count": 0,
      "outputs": [
        {
          "output_type": "display_data",
          "data": {
            "image/png": "[encoded data removed]",
            "text/plain": [
              "<matplotlib.figure.Figure at 0x7f12ad63dbe0>"
            ]
          },
          "metadata": {
            "tags": []
          }
        }
      ]
    },
    {
      "metadata": {
        "colab_type": "code",
        "id": "Ckr5wqhEdkfE",
        "colab": {}
      },
      "cell_type": "code",
      "source": [
        "\n",
        "plt.plot(imdb_training_acc)\n"
      ],
      "execution_count": 0,
      "outputs": []
    },
    {
      "metadata": {
        "colab_type": "text",
        "id": "iH9dJqTaUQfz"
      },
      "cell_type": "markdown",
      "source": [
        "METHOD #2 but not sure how we can use this if input length of training != input length of testing"
      ]
    },
    {
      "metadata": {
        "colab_type": "code",
        "id": "6zze6qQ8T7aG",
        "colab": {}
      },
      "cell_type": "code",
      "source": [
        "amazon_training = \"./train.ft.txt.bz2\"\n",
        "amazon_testing = \"./test.ft.txt.bz2\"\n",
        "imdb_training = \"./aclImdb/train\"\n",
        "imdb_testing = \"./aclImdb/test\"\n"
      ],
      "execution_count": 0,
      "outputs": []
    },
    {
      "metadata": {
        "colab_type": "code",
        "id": "ob3XFsNrUA08",
        "colab": {}
      },
      "cell_type": "code",
      "source": [
        "amazon_training_file = bz2.BZ2File(amazon_training,'r')\n",
        "amazon_training_lines = amazon_training_file.readlines()"
      ],
      "execution_count": 0,
      "outputs": []
    },
    {
      "metadata": {
        "colab_type": "code",
        "id": "5gkIpd8qUA8Y",
        "colab": {}
      },
      "cell_type": "code",
      "source": [
        "def parse_amazon_data(lines):\n",
        "    '''\n",
        "    :param lines: a list of string... each line being a review + label\n",
        "    :return: a list of [review (string), label (int)]\n",
        "    '''\n",
        "    review_and_ratings_list=[]\n",
        "    for i in range(len(lines)):\n",
        "        line_text = str(lines[i])\n",
        "        label, review_str = line_text.split(\" \", 1)\n",
        "        label = int(label[-1]) - 1         # label with 1 and 0\n",
        "        review_and_ratings_list.append([review_str, label])\n",
        "    return review_and_ratings_list"
      ],
      "execution_count": 0,
      "outputs": []
    },
    {
      "metadata": {
        "colab_type": "code",
        "id": "ROiioYB62uQU",
        "colab": {}
      },
      "cell_type": "code",
      "source": [
        "def parse_imdb_data(file_path):\n",
        "    '''\n",
        "    :param lines: a list of string... each line being a review + label\n",
        "    :return: a list of [review (string), label (int)]\n",
        "    '''\n",
        "    review_and_ratings_list=[]\n",
        "    \n",
        "    for folder_name in os.listdir(file_path):\n",
        "      if folder_name == \"pos\" or folder_name == \"neg\":\n",
        "        if folder_name == \"pos\":\n",
        "          label = 1\n",
        "        elif folder_name == \"neg\":\n",
        "          label = 0\n",
        "          \n",
        "          \n",
        "        for file_name in os.listdir(file_path + \"/\" + folder_name):\n",
        "          with open(file_path + \"/\" + folder_name + \"/\" + file_name, 'r', errors='ignore') as f:\n",
        "            review_and_ratings_list.append([f.read(), label])\n",
        "    return review_and_ratings_list"
      ],
      "execution_count": 0,
      "outputs": []
    },
    {
      "metadata": {
        "colab_type": "code",
        "id": "XS93lWFaUBDp",
        "colab": {}
      },
      "cell_type": "code",
      "source": [
        "def remove_punc(s):\n",
        "    table = str.maketrans({key: None for key in string.punctuation})\n",
        "    return s.translate(table)"
      ],
      "execution_count": 0,
      "outputs": []
    },
    {
      "metadata": {
        "colab_type": "code",
        "id": "CyFVBKGflT9E",
        "colab": {}
      },
      "cell_type": "code",
      "source": [
        "def generate_x_and_y(review_and_ratings_list):\n",
        "    data = pd.DataFrame(review_and_ratings_list, columns=['review','rating'])\n",
        "    data['word_count'] = data['review'].str.lower().str.split().apply(len)\n",
        "    data['review'] = data['review'].apply(remove_punc)\n",
        "    data = data[:][data['word_count']<=25]\n",
        "    \n",
        "    stop_word = text.ENGLISH_STOP_WORDS\n",
        "    count_vector = CountVectorizer(stop_words = stop_word, min_df=.0001, lowercase=1)\n",
        "    x = csr_matrix(count_vector.fit_transform(data['review'].values)).todense()\n",
        "    #y = csr_matrix(data['rating'].values).todense()\n",
        "    y = data['rating'].values\n",
        "    return (x, y)"
      ],
      "execution_count": 0,
      "outputs": []
    },
    {
      "metadata": {
        "colab_type": "code",
        "id": "0x8_iihclT_8",
        "colab": {}
      },
      "cell_type": "code",
      "source": [
        "#amazon_training_review_and_ratings_list = parse_amazon_data(amazon_training_lines)\n",
        "\n",
        "imdb_testing_review_and_ratings_list = parse_imdb_data(imdb_testing)"
      ],
      "execution_count": 0,
      "outputs": []
    },
    {
      "metadata": {
        "colab_type": "code",
        "id": "pI4Wv1u_UasQ",
        "colab": {}
      },
      "cell_type": "code",
      "source": [
        "#train_x, train_y = generate_x_and_y(amazon_training_review_and_ratings_list)\n",
        "test_x, test_y = generate_x_and_y(imdb_testing_review_and_ratings_list)"
      ],
      "execution_count": 0,
      "outputs": []
    },
    {
      "metadata": {
        "colab_type": "code",
        "id": "bwF1TEwlUaxe",
        "outputId": "2f05f537-4dff-413d-8085-03fc0e6f30e1",
        "colab": {
          "base_uri": "https://localhost:8080/",
          "height": 35
        }
      },
      "cell_type": "code",
      "source": [
        "import numpy as np\n",
        "\n",
        "padded = np.pad(test_x, (0,9390)"
      ],
      "execution_count": 0,
      "outputs": [
        {
          "output_type": "execute_result",
          "data": {
            "text/plain": [
              "(37, 288)"
            ]
          },
          "metadata": {
            "tags": []
          },
          "execution_count": 10
        }
      ]
    },
    {
      "metadata": {
        "colab_type": "code",
        "id": "-CbhJEk5V_iW",
        "outputId": "9edb2f8a-5dee-42ba-be64-883420868da6",
        "colab": {
          "base_uri": "https://localhost:8080/",
          "height": 35
        }
      },
      "cell_type": "code",
      "source": [
        "print(type(test_x))"
      ],
      "execution_count": 0,
      "outputs": [
        {
          "output_type": "stream",
          "text": [
            "<class 'numpy.matrixlib.defmatrix.matrix'>\n"
          ],
          "name": "stdout"
        }
      ]
    },
    {
      "metadata": {
        "colab_type": "code",
        "id": "VIBrXI3-Uavm",
        "colab": {}
      },
      "cell_type": "code",
      "source": [
        "model1=  Sequential()\n",
        "model1.add(Dense(1000,input_shape=(9678,),activation='relu'))\n",
        "model1.add(Dense(1,activation='sigmoid'))\n",
        "\n",
        "model1.compile(optimizer='adam',\n",
        "              loss='binary_crossentropy',\n",
        "              metrics=['accuracy'])\n",
        "hist = model1.fit(train_x, train_y, epochs=6, batch_size=128, verbose=1)"
      ],
      "execution_count": 0,
      "outputs": []
    },
    {
      "metadata": {
        "colab_type": "code",
        "id": "OHTkncrfX-bj",
        "colab": {}
      },
      "cell_type": "code",
      "source": [
        "model1.evaluate(test_x, test_y, batch_size=128)"
      ],
      "execution_count": 0,
      "outputs": []
    },
    {
      "metadata": {
        "colab_type": "code",
        "id": "BE636eUVlZeV",
        "colab": {}
      },
      "cell_type": "code",
      "source": [
        "def parse_amazon_data(lines):\n",
        "    '''\n",
        "    :param lines: a list of string... each line being a review + label\n",
        "    :return: a list of [review (string), label (int)]\n",
        "    '''\n",
        "    review_and_ratings_list=[]\n",
        "    for i in range(len(lines)):\n",
        "        line_text = str(lines[i])\n",
        "        label, review_str = line_text.split(\" \", 1)\n",
        "        label = int(label[-1]) - 1         # label with 1 and 0\n",
        "        review_and_ratings_list.append([review_str, label])\n",
        "    return review_and_ratings_list"
      ],
      "execution_count": 0,
      "outputs": []
    },
    {
      "metadata": {
        "colab_type": "code",
        "id": "QA-bi8tkrCp-",
        "outputId": "882576a4-50b7-4924-bea5-aad734aa775b",
        "colab": {
          "base_uri": "https://localhost:8080/",
          "height": 35
        }
      },
      "cell_type": "code",
      "source": [
        "amazon_testing_review_and_ratings_list = parse_amazon_data(amazon_testing_lines)\n"
      ],
      "execution_count": 0,
      "outputs": [
        {
          "output_type": "stream",
          "text": [
            "<zipfile.ZipFile [closed]>\n"
          ],
          "name": "stdout"
        }
      ]
    },
    {
      "metadata": {
        "colab_type": "code",
        "id": "qUpN0zUElZgt",
        "colab": {}
      },
      "cell_type": "code",
      "source": [
        "model1.evaluate(X_test, y_test, batch_size=128)\n"
      ],
      "execution_count": 0,
      "outputs": []
    },
    {
      "metadata": {
        "colab_type": "code",
        "id": "4cxElNozlZk2",
        "outputId": "1b701f79-2424-45fb-e727-57e0fd8b6b95",
        "colab": {
          "base_uri": "https://localhost:8080/",
          "height": 183
        }
      },
      "cell_type": "code",
      "source": [
        ""
      ],
      "execution_count": 0,
      "outputs": [
        {
          "output_type": "error",
          "ename": "NameError",
          "evalue": "ignored",
          "traceback": [
            "\u001b[0;31m---------------------------------------------------------------------------\u001b[0m",
            "\u001b[0;31mNameError\u001b[0m                                 Traceback (most recent call last)",
            "\u001b[0;32m<ipython-input-8-38cf386f491a>\u001b[0m in \u001b[0;36m<module>\u001b[0;34m()\u001b[0m\n\u001b[0;32m----> 1\u001b[0;31m \u001b[0mamazon_testing_file\u001b[0m \u001b[0;34m=\u001b[0m \u001b[0mbz2\u001b[0m\u001b[0;34m.\u001b[0m\u001b[0mBZ2File\u001b[0m\u001b[0;34m(\u001b[0m\u001b[0mamazon_testing\u001b[0m\u001b[0;34m,\u001b[0m\u001b[0;34m'r'\u001b[0m\u001b[0;34m)\u001b[0m\u001b[0;34m\u001b[0m\u001b[0;34m\u001b[0m\u001b[0m\n\u001b[0m\u001b[1;32m      2\u001b[0m \u001b[0mamazon_testing_lines\u001b[0m \u001b[0;34m=\u001b[0m \u001b[0mamazon_testing_file\u001b[0m\u001b[0;34m.\u001b[0m\u001b[0mreadlines\u001b[0m\u001b[0;34m(\u001b[0m\u001b[0;34m)\u001b[0m\u001b[0;34m\u001b[0m\u001b[0;34m\u001b[0m\u001b[0m\n",
            "\u001b[0;31mNameError\u001b[0m: name 'amazon_testing' is not defined"
          ]
        }
      ]
    },
    {
      "metadata": {
        "colab_type": "code",
        "id": "pvB4xpFLlZox",
        "colab": {}
      },
      "cell_type": "code",
      "source": [
        ""
      ],
      "execution_count": 0,
      "outputs": []
    },
    {
      "metadata": {
        "colab_type": "code",
        "id": "zYzTV4Q7lZny",
        "colab": {}
      },
      "cell_type": "code",
      "source": [
        ""
      ],
      "execution_count": 0,
      "outputs": []
    },
    {
      "metadata": {
        "colab_type": "code",
        "id": "rs_HrUKFlZkM",
        "colab": {}
      },
      "cell_type": "code",
      "source": [
        ""
      ],
      "execution_count": 0,
      "outputs": []
    },
    {
      "metadata": {
        "colab_type": "code",
        "id": "mrA8uW5ilUDr",
        "colab": {}
      },
      "cell_type": "code",
      "source": [
        ""
      ],
      "execution_count": 0,
      "outputs": []
    }
  ]
}