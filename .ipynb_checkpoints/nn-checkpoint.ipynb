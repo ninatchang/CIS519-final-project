{
 "cells": [
  {
   "cell_type": "code",
   "execution_count": 1,
   "metadata": {
    "colab": {},
    "colab_type": "code",
    "id": "wc5YCeqNlTD6"
   },
   "outputs": [
    {
     "name": "stdout",
     "output_type": "stream",
     "text": [
      "\u001b[31mmatplotlib 1.3.1 requires nose, which is not installed.\u001b[0m\n",
      "\u001b[31mmatplotlib 1.3.1 requires tornado, which is not installed.\u001b[0m\n",
      "\u001b[31mCannot uninstall 'numpy'. It is a distutils installed project and thus we cannot accurately determine which files belong to it which would lead to only a partial uninstall.\u001b[0m\n",
      "\u001b[33mYou are using pip version 18.0, however version 18.1 is available.\n",
      "You should consider upgrading via the 'pip install --upgrade pip' command.\u001b[0m\n"
     ]
    }
   ],
   "source": [
    "!pip install -q keras"
   ]
  },
  {
   "cell_type": "code",
   "execution_count": null,
   "metadata": {
    "colab": {
     "base_uri": "https://localhost:8080/",
     "height": 69
    },
    "colab_type": "code",
    "executionInfo": {
     "elapsed": 8834,
     "status": "ok",
     "timestamp": 1544364057586,
     "user": {
      "displayName": "Jasmine Lee",
      "photoUrl": "https://lh5.googleusercontent.com/-5T3iqpcCfwk/AAAAAAAAAAI/AAAAAAAAAKU/ZnpoPR9qUAE/s64/photo.jpg",
      "userId": "13759831277807523578"
     },
     "user_tz": 300
    },
    "id": "C3JwJQ4OT7SX",
    "outputId": "49b12588-e3ff-4f1e-877c-6ddb5957116d"
   },
   "outputs": [
    {
     "name": "stderr",
     "output_type": "stream",
     "text": [
      "Using TensorFlow backend.\n"
     ]
    },
    {
     "name": "stdout",
     "output_type": "stream",
     "text": [
      "Downloading data from https://s3.amazonaws.com/text-datasets/imdb.npz\n",
      "10444800/17464789 [================>.............] - ETA: 3s"
     ]
    }
   ],
   "source": [
    "from keras.datasets import imdb\n",
    "\n",
    "(train_data, train_labels), (test_data, test_labels) = imdb.load_data(num_words = 10000)"
   ]
  },
  {
   "cell_type": "code",
   "execution_count": 0,
   "metadata": {
    "colab": {},
    "colab_type": "code",
    "id": "an0hCJK44D-a"
   },
   "outputs": [],
   "source": [
    "import numpy as np\n",
    "\n",
    "def vectorize_sequences(sequences, dimension=10000):\n",
    "  results = np.zeros((len(sequences), dimension))\n",
    "  for i, sequence in enumerate(sequences):\n",
    "    results[i, sequence]=1\n",
    "  return results\n"
   ]
  },
  {
   "cell_type": "code",
   "execution_count": 0,
   "metadata": {
    "colab": {},
    "colab_type": "code",
    "id": "i4l-fYtVqOfr"
   },
   "outputs": [],
   "source": [
    "\n",
    "imdb_training = vectorize_sequences(train_data)\n",
    "imdb_testing = vectorize_sequences(test_data)"
   ]
  },
  {
   "cell_type": "code",
   "execution_count": 5,
   "metadata": {
    "colab": {
     "base_uri": "https://localhost:8080/",
     "height": 52
    },
    "colab_type": "code",
    "executionInfo": {
     "elapsed": 819,
     "status": "ok",
     "timestamp": 1544362919603,
     "user": {
      "displayName": "Jasmine Lee",
      "photoUrl": "https://lh5.googleusercontent.com/-5T3iqpcCfwk/AAAAAAAAAAI/AAAAAAAAAKU/ZnpoPR9qUAE/s64/photo.jpg",
      "userId": "13759831277807523578"
     },
     "user_tz": 300
    },
    "id": "NpIlT9Htnnhn",
    "outputId": "5d9b4a3f-fa40-4d39-c8da-bed3918ebd72"
   },
   "outputs": [
    {
     "name": "stdout",
     "output_type": "stream",
     "text": [
      "[nltk_data] Downloading package stopwords to /root/nltk_data...\n",
      "[nltk_data]   Unzipping corpora/stopwords.zip.\n"
     ]
    }
   ],
   "source": [
    "import nltk\n",
    "nltk.download('stopwords')\n",
    "from nltk.corpus import stopwords\n",
    "stop = set(stopwords.words('english'))"
   ]
  },
  {
   "cell_type": "code",
   "execution_count": 0,
   "metadata": {
    "colab": {},
    "colab_type": "code",
    "id": "B1gFPQeS4LUB"
   },
   "outputs": [],
   "source": [
    "from collections import Counter\n",
    "def parse_amazon_data(lines):\n",
    "    '''\n",
    "    :param lines: a list of string... each line being a review + label\n",
    "    :return: a list of [review (string), label (int)]\n",
    "    '''\n",
    "    \n",
    "    # iterate through lines, create list of labels & list of reviews\n",
    "    \n",
    "    lines = [line.lower() for line in lines if len(line) >10]\n",
    "    reviews = [0 for i in range(len(lines))]\n",
    "    labels = [0 for i in range(len(lines))]\n",
    "    \n",
    "    data = [0 for i in range(len(lines))]\n",
    "               \n",
    "    \n",
    "    for i in range(len(lines)):\n",
    "      label, review_str = lines[i].split(\" \", 1)\n",
    "      review_str = \" \".join([word for word in review_str.split() if word\n",
    "                             not in stop])\n",
    "      labels[i] = int(label[9])-1\n",
    "      reviews[i] = review_str\n",
    "      \n",
    "    count = Counter(word for line in reviews for word in line.split())\n",
    "    \n",
    "    # extract most common 10000 words\n",
    "    \n",
    "    common = [word for (word, count) in count.most_common(10000)]\n",
    "    \n",
    "    for r in reviews:\n",
    "      r_words = set(r.split())\n",
    "      data[i] = [i for i in range(len(common)) if common[i] in r_words]\n",
    "     \n",
    "    return data, labels"
   ]
  },
  {
   "cell_type": "code",
   "execution_count": 0,
   "metadata": {
    "colab": {},
    "colab_type": "code",
    "id": "71hMbepsMpVG"
   },
   "outputs": [],
   "source": [
    "amazon_training = \"./train.ft.txt.bz2\"\n",
    "amazon_testing = \"./testfrom google.colab import drive\n",
    "drive.mount('/content/gdrive').ft.txt.bz2\""
   ]
  },
  {
   "cell_type": "code",
   "execution_count": 0,
   "metadata": {
    "colab": {},
    "colab_type": "code",
    "id": "YU0G2pf8R1mb"
   },
   "outputs": [],
   "source": [
    "amazon_training = \"./train.ft.txt.bz2\"\n",
    "amazon_testing = \"./test.ft.txt.bz2\""
   ]
  },
  {
   "cell_type": "code",
   "execution_count": 14,
   "metadata": {
    "colab": {
     "base_uri": "https://localhost:8080/",
     "height": 55
    },
    "colab_type": "code",
    "executionInfo": {
     "elapsed": 493,
     "status": "ok",
     "timestamp": 1544363590276,
     "user": {
      "displayName": "Jasmine Lee",
      "photoUrl": "https://lh5.googleusercontent.com/-5T3iqpcCfwk/AAAAAAAAAAI/AAAAAAAAAKU/ZnpoPR9qUAE/s64/photo.jpg",
      "userId": "13759831277807523578"
     },
     "user_tz": 300
    },
    "id": "4MImBke2dkYl",
    "outputId": "d892e771-4676-4522-ab9d-f21c6d472e51"
   },
   "outputs": [
    {
     "name": "stdout",
     "output_type": "stream",
     "text": [
      "Drive already mounted at /content/gdrive; to attempt to forcibly remount, call drive.mount(\"/content/gdrive\", force_remount=True).\n"
     ]
    }
   ],
   "source": [
    "with open(\"gdrive/My Drive/data/test.ft.txt\", 'r') as f:\n",
    "  amazon_testing_lines = f.readlines()"
   ]
  },
  {
   "cell_type": "code",
   "execution_count": 0,
   "metadata": {
    "colab": {},
    "colab_type": "code",
    "id": "AxoswGobPhoc"
   },
   "outputs": [],
   "source": [
    "with open(\"gdrive/My Drive/data/test.ft.txt\", 'r') as f:\n",
    "  amazon_testing_lines = f.readlines()"
   ]
  },
  {
   "cell_type": "code",
   "execution_count": 0,
   "metadata": {
    "colab": {},
    "colab_type": "code",
    "id": "ioqRRkEhdkjk"
   },
   "outputs": [],
   "source": [
    "amazon_test_data, amazon_test_labels = parse_amazon_data(amazon_testing_lines)\n"
   ]
  },
  {
   "cell_type": "code",
   "execution_count": 0,
   "metadata": {
    "colab": {},
    "colab_type": "code",
    "id": "w7IZ77RRK2u0"
   },
   "outputs": [],
   "source": [
    "amazon_testing = vectorize_sequences(amazon_test_data)\n"
   ]
  },
  {
   "cell_type": "code",
   "execution_count": 0,
   "metadata": {
    "colab": {},
    "colab_type": "code",
    "id": "bCpxaWZmI5Fi"
   },
   "outputs": [],
   "source": [
    "model.compile(optimizer='rmsprop', loss='binary_crossentropy', metrics=['accuracy'])"
   ]
  },
  {
   "cell_type": "code",
   "execution_count": 13,
   "metadata": {
    "colab": {
     "base_uri": "https://localhost:8080/",
     "height": 69
    },
    "colab_type": "code",
    "executionInfo": {
     "elapsed": 1017,
     "status": "ok",
     "timestamp": 1544354923514,
     "user": {
      "displayName": "Jasmine Lee",
      "photoUrl": "https://lh5.googleusercontent.com/-5T3iqpcCfwk/AAAAAAAAAAI/AAAAAAAAAKU/ZnpoPR9qUAE/s64/photo.jpg",
      "userId": "13759831277807523578"
     },
     "user_tz": 300
    },
    "id": "nmjiDyqCdkiO",
    "outputId": "2d8620ba-1169-4794-c174-e7e44c578a82"
   },
   "outputs": [
    {
     "name": "stdout",
     "output_type": "stream",
     "text": [
      "[nltk_data] Downloading package wordnet to /root/nltk_data...\n",
      "[nltk_data]   Unzipping corpora/wordnet.zip.\n"
     ]
    },
    {
     "data": {
      "text/plain": [
       "True"
      ]
     },
     "execution_count": 13,
     "metadata": {
      "tags": []
     },
     "output_type": "execute_result"
    }
   ],
   "source": [
    "history = model.fit(imdb_training, train_labels, epochs=20, batch_size=512)"
   ]
  },
  {
   "cell_type": "code",
   "execution_count": 0,
   "metadata": {
    "colab": {},
    "colab_type": "code",
    "id": "QcvzsfDGdkgf"
   },
   "outputs": [],
   "source": [
    "model1.evaluate(amazon_testing, amazon_test_labels, batch_size=128)"
   ]
  },
  {
   "cell_type": "code",
   "execution_count": 0,
   "metadata": {
    "colab": {},
    "colab_type": "code",
    "id": "Ckr5wqhEdkfE"
   },
   "outputs": [],
   "source": []
  },
  {
   "cell_type": "markdown",
   "metadata": {
    "colab_type": "text",
    "id": "iH9dJqTaUQfz"
   },
   "source": [
    "METHOD #2 but not sure how we can use this if input length of training != input length of testing"
   ]
  },
  {
   "cell_type": "code",
   "execution_count": 0,
   "metadata": {
    "colab": {},
    "colab_type": "code",
    "id": "6zze6qQ8T7aG"
   },
   "outputs": [],
   "source": [
    "amazon_training = \"./train.ft.txt.bz2\"\n",
    "amazon_testing = \"./test.ft.txt.bz2\"\n",
    "imdb_training = \"./aclImdb/train\"\n",
    "imdb_testing = \"./aclImdb/test\"\n"
   ]
  },
  {
   "cell_type": "code",
   "execution_count": 0,
   "metadata": {
    "colab": {},
    "colab_type": "code",
    "id": "ob3XFsNrUA08"
   },
   "outputs": [],
   "source": [
    "amazon_training_file = bz2.BZ2File(amazon_training,'r')\n",
    "amazon_training_lines = amazon_training_file.readlines()"
   ]
  },
  {
   "cell_type": "code",
   "execution_count": 0,
   "metadata": {
    "colab": {},
    "colab_type": "code",
    "id": "5gkIpd8qUA8Y"
   },
   "outputs": [],
   "source": [
    "def parse_amazon_data(lines):\n",
    "    '''\n",
    "    :param lines: a list of string... each line being a review + label\n",
    "    :return: a list of [review (string), label (int)]\n",
    "    '''\n",
    "    review_and_ratings_list=[]\n",
    "    for i in range(len(lines)):\n",
    "        line_text = str(lines[i])\n",
    "        label, review_str = line_text.split(\" \", 1)\n",
    "        label = int(label[-1]) - 1         # label with 1 and 0\n",
    "        review_and_ratings_list.append([review_str, label])\n",
    "    return review_and_ratings_list"
   ]
  },
  {
   "cell_type": "code",
   "execution_count": 0,
   "metadata": {
    "colab": {},
    "colab_type": "code",
    "id": "ROiioYB62uQU"
   },
   "outputs": [],
   "source": [
    "def parse_imdb_data(file_path):\n",
    "    '''\n",
    "    :param lines: a list of string... each line being a review + label\n",
    "    :return: a list of [review (string), label (int)]\n",
    "    '''\n",
    "    review_and_ratings_list=[]\n",
    "    \n",
    "    for folder_name in os.listdir(file_path):\n",
    "      if folder_name == \"pos\" or folder_name == \"neg\":\n",
    "        if folder_name == \"pos\":\n",
    "          label = 1\n",
    "        elif folder_name == \"neg\":\n",
    "          label = 0\n",
    "          \n",
    "          \n",
    "        for file_name in os.listdir(file_path + \"/\" + folder_name):\n",
    "          with open(file_path + \"/\" + folder_name + \"/\" + file_name, 'r', errors='ignore') as f:\n",
    "            review_and_ratings_list.append([f.read(), label])\n",
    "    return review_and_ratings_list"
   ]
  },
  {
   "cell_type": "code",
   "execution_count": 0,
   "metadata": {
    "colab": {},
    "colab_type": "code",
    "id": "XS93lWFaUBDp"
   },
   "outputs": [],
   "source": [
    "def remove_punc(s):\n",
    "    table = str.maketrans({key: None for key in string.punctuation})\n",
    "    return s.translate(table)"
   ]
  },
  {
   "cell_type": "code",
   "execution_count": 0,
   "metadata": {
    "colab": {},
    "colab_type": "code",
    "id": "CyFVBKGflT9E"
   },
   "outputs": [],
   "source": [
    "def generate_x_and_y(review_and_ratings_list):\n",
    "    data = pd.DataFrame(review_and_ratings_list, columns=['review','rating'])\n",
    "    data['word_count'] = data['review'].str.lower().str.split().apply(len)\n",
    "    data['review'] = data['review'].apply(remove_punc)\n",
    "    data = data[:][data['word_count']<=25]\n",
    "    \n",
    "    stop_word = text.ENGLISH_STOP_WORDS\n",
    "    count_vector = CountVectorizer(stop_words = stop_word, min_df=.0001, lowercase=1)\n",
    "    x = csr_matrix(count_vector.fit_transform(data['review'].values)).todense()\n",
    "    #y = csr_matrix(data['rating'].values).todense()\n",
    "    y = data['rating'].values\n",
    "    return (x, y)"
   ]
  },
  {
   "cell_type": "code",
   "execution_count": 0,
   "metadata": {
    "colab": {},
    "colab_type": "code",
    "id": "0x8_iihclT_8"
   },
   "outputs": [],
   "source": [
    "#amazon_training_review_and_ratings_list = parse_amazon_data(amazon_training_lines)\n",
    "\n",
    "imdb_testing_review_and_ratings_list = parse_imdb_data(imdb_testing)"
   ]
  },
  {
   "cell_type": "code",
   "execution_count": 0,
   "metadata": {
    "colab": {},
    "colab_type": "code",
    "id": "pI4Wv1u_UasQ"
   },
   "outputs": [],
   "source": [
    "#train_x, train_y = generate_x_and_y(amazon_training_review_and_ratings_list)\n",
    "test_x, test_y = generate_x_and_y(imdb_testing_review_and_ratings_list)"
   ]
  },
  {
   "cell_type": "code",
   "execution_count": 10,
   "metadata": {
    "colab": {
     "base_uri": "https://localhost:8080/",
     "height": 35
    },
    "colab_type": "code",
    "executionInfo": {
     "elapsed": 231,
     "status": "ok",
     "timestamp": 1544347900385,
     "user": {
      "displayName": "Jasmine Lee",
      "photoUrl": "https://lh5.googleusercontent.com/-5T3iqpcCfwk/AAAAAAAAAAI/AAAAAAAAAKU/ZnpoPR9qUAE/s64/photo.jpg",
      "userId": "13759831277807523578"
     },
     "user_tz": 300
    },
    "id": "bwF1TEwlUaxe",
    "outputId": "2f05f537-4dff-413d-8085-03fc0e6f30e1"
   },
   "outputs": [
    {
     "data": {
      "text/plain": [
       "(37, 288)"
      ]
     },
     "execution_count": 10,
     "metadata": {
      "tags": []
     },
     "output_type": "execute_result"
    }
   ],
   "source": [
    "import numpy as np\n",
    "\n",
    "padded = np.pad(test_x, (0,9390)"
   ]
  },
  {
   "cell_type": "code",
   "execution_count": 19,
   "metadata": {
    "colab": {
     "base_uri": "https://localhost:8080/",
     "height": 35
    },
    "colab_type": "code",
    "executionInfo": {
     "elapsed": 305,
     "status": "ok",
     "timestamp": 1544349667120,
     "user": {
      "displayName": "Jasmine Lee",
      "photoUrl": "https://lh5.googleusercontent.com/-5T3iqpcCfwk/AAAAAAAAAAI/AAAAAAAAAKU/ZnpoPR9qUAE/s64/photo.jpg",
      "userId": "13759831277807523578"
     },
     "user_tz": 300
    },
    "id": "-CbhJEk5V_iW",
    "outputId": "9edb2f8a-5dee-42ba-be64-883420868da6"
   },
   "outputs": [
    {
     "name": "stdout",
     "output_type": "stream",
     "text": [
      "<class 'numpy.matrixlib.defmatrix.matrix'>\n"
     ]
    }
   ],
   "source": [
    "print(type(test_x))"
   ]
  },
  {
   "cell_type": "code",
   "execution_count": 0,
   "metadata": {
    "colab": {},
    "colab_type": "code",
    "id": "VIBrXI3-Uavm"
   },
   "outputs": [],
   "source": [
    "model1=  Sequential()\n",
    "model1.add(Dense(1000,input_shape=(9678,),activation='relu'))\n",
    "model1.add(Dense(1,activation='sigmoid'))\n",
    "\n",
    "model1.compile(optimizer='adam',\n",
    "              loss='binary_crossentropy',\n",
    "              metrics=['accuracy'])\n",
    "hist = model1.fit(train_x, train_y, epochs=6, batch_size=128, verbose=1)"
   ]
  },
  {
   "cell_type": "code",
   "execution_count": 0,
   "metadata": {
    "colab": {},
    "colab_type": "code",
    "id": "OHTkncrfX-bj"
   },
   "outputs": [],
   "source": [
    "model1.evaluate(test_x, test_y, batch_size=128)"
   ]
  },
  {
   "cell_type": "code",
   "execution_count": 0,
   "metadata": {
    "colab": {},
    "colab_type": "code",
    "id": "BE636eUVlZeV"
   },
   "outputs": [],
   "source": [
    "def parse_amazon_data(lines):\n",
    "    '''\n",
    "    :param lines: a list of string... each line being a review + label\n",
    "    :return: a list of [review (string), label (int)]\n",
    "    '''\n",
    "    review_and_ratings_list=[]\n",
    "    for i in range(len(lines)):\n",
    "        line_text = str(lines[i])\n",
    "        label, review_str = line_text.split(\" \", 1)\n",
    "        label = int(label[-1]) - 1         # label with 1 and 0\n",
    "        review_and_ratings_list.append([review_str, label])\n",
    "    return review_and_ratings_list"
   ]
  },
  {
   "cell_type": "code",
   "execution_count": 17,
   "metadata": {
    "colab": {
     "base_uri": "https://localhost:8080/",
     "height": 35
    },
    "colab_type": "code",
    "executionInfo": {
     "elapsed": 171,
     "status": "ok",
     "timestamp": 1544337310063,
     "user": {
      "displayName": "Jasmine Lee",
      "photoUrl": "https://lh5.googleusercontent.com/-5T3iqpcCfwk/AAAAAAAAAAI/AAAAAAAAAKU/ZnpoPR9qUAE/s64/photo.jpg",
      "userId": "13759831277807523578"
     },
     "user_tz": 300
    },
    "id": "QA-bi8tkrCp-",
    "outputId": "882576a4-50b7-4924-bea5-aad734aa775b"
   },
   "outputs": [
    {
     "name": "stdout",
     "output_type": "stream",
     "text": [
      "<zipfile.ZipFile [closed]>\n"
     ]
    }
   ],
   "source": [
    "amazon_testing_review_and_ratings_list = parse_amazon_data(amazon_testing_lines)\n"
   ]
  },
  {
   "cell_type": "code",
   "execution_count": 0,
   "metadata": {
    "colab": {},
    "colab_type": "code",
    "id": "qUpN0zUElZgt"
   },
   "outputs": [],
   "source": [
    "model1.evaluate(X_test, y_test, batch_size=128)\n"
   ]
  },
  {
   "cell_type": "code",
   "execution_count": 8,
   "metadata": {
    "colab": {
     "base_uri": "https://localhost:8080/",
     "height": 183
    },
    "colab_type": "code",
    "executionInfo": {
     "elapsed": 189,
     "status": "error",
     "timestamp": 1544335850257,
     "user": {
      "displayName": "Jasmine Lee",
      "photoUrl": "https://lh5.googleusercontent.com/-5T3iqpcCfwk/AAAAAAAAAAI/AAAAAAAAAKU/ZnpoPR9qUAE/s64/photo.jpg",
      "userId": "13759831277807523578"
     },
     "user_tz": 300
    },
    "id": "4cxElNozlZk2",
    "outputId": "1b701f79-2424-45fb-e727-57e0fd8b6b95"
   },
   "outputs": [
    {
     "ename": "NameError",
     "evalue": "ignored",
     "output_type": "error",
     "traceback": [
      "\u001b[0;31m---------------------------------------------------------------------------\u001b[0m",
      "\u001b[0;31mNameError\u001b[0m                                 Traceback (most recent call last)",
      "\u001b[0;32m<ipython-input-8-38cf386f491a>\u001b[0m in \u001b[0;36m<module>\u001b[0;34m()\u001b[0m\n\u001b[0;32m----> 1\u001b[0;31m \u001b[0mamazon_testing_file\u001b[0m \u001b[0;34m=\u001b[0m \u001b[0mbz2\u001b[0m\u001b[0;34m.\u001b[0m\u001b[0mBZ2File\u001b[0m\u001b[0;34m(\u001b[0m\u001b[0mamazon_testing\u001b[0m\u001b[0;34m,\u001b[0m\u001b[0;34m'r'\u001b[0m\u001b[0;34m)\u001b[0m\u001b[0;34m\u001b[0m\u001b[0;34m\u001b[0m\u001b[0m\n\u001b[0m\u001b[1;32m      2\u001b[0m \u001b[0mamazon_testing_lines\u001b[0m \u001b[0;34m=\u001b[0m \u001b[0mamazon_testing_file\u001b[0m\u001b[0;34m.\u001b[0m\u001b[0mreadlines\u001b[0m\u001b[0;34m(\u001b[0m\u001b[0;34m)\u001b[0m\u001b[0;34m\u001b[0m\u001b[0;34m\u001b[0m\u001b[0m\n",
      "\u001b[0;31mNameError\u001b[0m: name 'amazon_testing' is not defined"
     ]
    }
   ],
   "source": []
  },
  {
   "cell_type": "code",
   "execution_count": 0,
   "metadata": {
    "colab": {},
    "colab_type": "code",
    "id": "pvB4xpFLlZox"
   },
   "outputs": [],
   "source": []
  },
  {
   "cell_type": "code",
   "execution_count": 0,
   "metadata": {
    "colab": {},
    "colab_type": "code",
    "id": "zYzTV4Q7lZny"
   },
   "outputs": [],
   "source": []
  },
  {
   "cell_type": "code",
   "execution_count": 0,
   "metadata": {
    "colab": {},
    "colab_type": "code",
    "id": "rs_HrUKFlZkM"
   },
   "outputs": [],
   "source": []
  },
  {
   "cell_type": "code",
   "execution_count": 0,
   "metadata": {
    "colab": {},
    "colab_type": "code",
    "id": "mrA8uW5ilUDr"
   },
   "outputs": [],
   "source": []
  }
 ],
 "metadata": {
  "accelerator": "GPU",
  "colab": {
   "collapsed_sections": [],
   "name": "Untitled0.ipynb",
   "provenance": [],
   "version": "0.3.2"
  },
  "kernelspec": {
   "display_name": "Python 3",
   "language": "python",
   "name": "python3"
  },
  "language_info": {
   "codemirror_mode": {
    "name": "ipython",
    "version": 3
   },
   "file_extension": ".py",
   "mimetype": "text/x-python",
   "name": "python",
   "nbconvert_exporter": "python",
   "pygments_lexer": "ipython3",
   "version": "3.6.5"
  }
 },
 "nbformat": 4,
 "nbformat_minor": 1
}
